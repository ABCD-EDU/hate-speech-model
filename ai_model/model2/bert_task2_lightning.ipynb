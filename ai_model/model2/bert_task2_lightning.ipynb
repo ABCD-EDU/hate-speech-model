{
 "cells": [
  {
   "cell_type": "code",
   "execution_count": 1,
   "metadata": {},
   "outputs": [
    {
     "name": "stderr",
     "output_type": "stream",
     "text": [
      "C:\\Users\\Arian\\.conda\\envs\\ai-ds-test5\\lib\\site-packages\\tqdm\\auto.py:22: TqdmWarning: IProgress not found. Please update jupyter and ipywidgets. See https://ipywidgets.readthedocs.io/en/stable/user_install.html\n",
      "  from .autonotebook import tqdm as notebook_tqdm\n"
     ]
    }
   ],
   "source": [
    "from pathlib import Path\n",
    "from sklearn.model_selection import train_test_split\n",
    "import torch\n",
    "from torch.utils.data import Dataset\n",
    "import pandas as pd\n",
    "from torch.utils.data import DataLoader\n",
    "from transformers import AutoModel, AutoTokenizer, AdamW, get_linear_schedule_with_warmup\n",
    "import torch.nn as nn\n",
    "import pytorch_lightning as pl\n",
    "from pytorch_lightning.loggers import TensorBoardLogger\n",
    "from pytorch_lightning.callbacks import ModelCheckpoint\n",
    "from torchmetrics.functional import accuracy, f1_score, auroc\n"
   ]
  },
  {
   "cell_type": "code",
   "execution_count": 2,
   "metadata": {},
   "outputs": [
    {
     "data": {
      "text/plain": [
       "text    0\n",
       "HATE    0\n",
       "NONE    0\n",
       "OFFN    0\n",
       "PRFN    0\n",
       "dtype: int64"
      ]
     },
     "execution_count": 2,
     "metadata": {},
     "output_type": "execute_result"
    }
   ],
   "source": [
    "task_df = pd.read_csv('../../res/preprocessed/task2/task2.csv')\n",
    "task_df = task_df.dropna()\n",
    "task_df.isnull().sum()"
   ]
  },
  {
   "cell_type": "code",
   "execution_count": 3,
   "metadata": {},
   "outputs": [
    {
     "name": "stdout",
     "output_type": "stream",
     "text": [
      "2594\n",
      "556\n",
      "556\n"
     ]
    }
   ],
   "source": [
    "\n",
    "train_df, val_df = train_test_split(task_df, test_size=0.3)\n",
    "# Divide validation df to validation and test dataframes\n",
    "val_df, test_df = train_test_split(val_df, test_size=0.5)\n",
    "print(len(train_df))\n",
    "print(len(val_df))\n",
    "print(len(test_df))\n"
   ]
  },
  {
   "cell_type": "code",
   "execution_count": 4,
   "metadata": {},
   "outputs": [
    {
     "name": "stdout",
     "output_type": "stream",
     "text": [
      "{0: 'HATE', 1: 'NONE', 2: 'OFFN', 3: 'PRFN'}\n",
      "{'HATE': 0, 'NONE': 1, 'OFFN': 2, 'PRFN': 3}\n"
     ]
    }
   ],
   "source": [
    "LABEL_COLUMNS = list(train_df.columns)\n",
    "LABEL_COLUMNS.remove('text')\n",
    "\n",
    "id2label = {idx: label for idx, label in enumerate(LABEL_COLUMNS)}\n",
    "label2id = {label: idx for idx, label in enumerate(LABEL_COLUMNS)}\n",
    "\n",
    "print(id2label)\n",
    "print(label2id)\n"
   ]
  },
  {
   "cell_type": "code",
   "execution_count": 5,
   "metadata": {},
   "outputs": [],
   "source": [
    "class TwitterDataset(Dataset):\n",
    "    def __init__(self, data_df, tokenizer, max_token_len: 256, batch_size=16):\n",
    "        self.data = data_df\n",
    "        self.tokenizer = tokenizer\n",
    "        self.max_token_len = max_token_len\n",
    "\n",
    "    def __getitem__(self, idx):\n",
    "        data_row = self.data.iloc[idx]\n",
    "        text = data_row.text\n",
    "        labels = data_row[LABEL_COLUMNS]\n",
    "        encoding = self.tokenizer.encode_plus(\n",
    "            text,\n",
    "            add_special_tokens=True,\n",
    "            max_length=self.max_token_len,\n",
    "            return_token_type_ids=False,\n",
    "            padding=\"max_length\",\n",
    "            truncation=True,\n",
    "            return_attention_mask=True,\n",
    "            return_tensors='pt'\n",
    "        )\n",
    "\n",
    "        return dict(\n",
    "            input_ids=encoding['input_ids'].flatten(),\n",
    "            attention_mask=encoding['attention_mask'].flatten(),\n",
    "            labels=torch.FloatTensor(labels)\n",
    "        )\n",
    "\n",
    "    def __len__(self):\n",
    "        return len(self.data)\n"
   ]
  },
  {
   "cell_type": "code",
   "execution_count": 6,
   "metadata": {},
   "outputs": [],
   "source": [
    "BERT_MODEL_NAME = \"bert-base-uncased\"\n",
    "tokenizer = AutoTokenizer.from_pretrained(BERT_MODEL_NAME)\n",
    "\n",
    "train_dataset = TwitterDataset(train_df, tokenizer, max_token_len=256)\n",
    "test_dataset = TwitterDataset(test_df, tokenizer, max_token_len=256)\n",
    "train_loader = DataLoader(train_dataset, batch_size=8, shuffle=True)\n",
    "test_loader = DataLoader(test_dataset, batch_size=8, shuffle=False)\n"
   ]
  },
  {
   "cell_type": "code",
   "execution_count": 9,
   "metadata": {},
   "outputs": [
    {
     "data": {
      "text/plain": [
       "{'input_ids': tensor([[ 101, 6616, 2023,  ...,    0,    0,    0],\n",
       "         [ 101, 2017, 2024,  ...,    0,    0,    0],\n",
       "         [ 101, 2028, 2518,  ...,    0,    0,    0],\n",
       "         ...,\n",
       "         [ 101, 1996, 1996,  ...,    0,    0,    0],\n",
       "         [ 101, 2005, 2469,  ...,    0,    0,    0],\n",
       "         [ 101, 2043, 2017,  ...,    0,    0,    0]]),\n",
       " 'attention_mask': tensor([[1, 1, 1,  ..., 0, 0, 0],\n",
       "         [1, 1, 1,  ..., 0, 0, 0],\n",
       "         [1, 1, 1,  ..., 0, 0, 0],\n",
       "         ...,\n",
       "         [1, 1, 1,  ..., 0, 0, 0],\n",
       "         [1, 1, 1,  ..., 0, 0, 0],\n",
       "         [1, 1, 1,  ..., 0, 0, 0]]),\n",
       " 'labels': tensor([[0., 0., 0., 1.],\n",
       "         [0., 1., 0., 0.],\n",
       "         [0., 0., 0., 1.],\n",
       "         [0., 1., 0., 0.],\n",
       "         [0., 1., 0., 0.],\n",
       "         [0., 1., 0., 0.],\n",
       "         [0., 1., 0., 0.],\n",
       "         [0., 0., 0., 1.]])}"
      ]
     },
     "execution_count": 9,
     "metadata": {},
     "output_type": "execute_result"
    }
   ],
   "source": [
    "sample_batch = iter(test_loader).next()\n",
    "sample_batch"
   ]
  },
  {
   "cell_type": "code",
   "execution_count": 10,
   "metadata": {},
   "outputs": [
    {
     "data": {
      "text/plain": [
       "(torch.Size([8, 256]), torch.Size([8, 256]))"
      ]
     },
     "execution_count": 10,
     "metadata": {},
     "output_type": "execute_result"
    }
   ],
   "source": [
    "sample_batch[\"input_ids\"].shape, sample_batch[\"attention_mask\"].shape"
   ]
  },
  {
   "cell_type": "code",
   "execution_count": 11,
   "metadata": {},
   "outputs": [
    {
     "data": {
      "text/plain": [
       "(torch.Size([8, 256, 768]), torch.Size([8, 768]))"
      ]
     },
     "execution_count": 11,
     "metadata": {},
     "output_type": "execute_result"
    }
   ],
   "source": [
    "model = AutoModel.from_pretrained(BERT_MODEL_NAME)\n",
    "output = model(sample_batch[\"input_ids\"], sample_batch[\"attention_mask\"])\n",
    "output.last_hidden_state.shape, output.pooler_output.shape\n"
   ]
  },
  {
   "cell_type": "code",
   "execution_count": 12,
   "metadata": {},
   "outputs": [],
   "source": [
    "class TwitterDataModule(pl.LightningDataModule):\n",
    "    def __init__(self, train_df, val_df, test_df, tokenizer, batch_size=8, max_token_len=128):\n",
    "        super().__init__()\n",
    "        self.batch_size = batch_size\n",
    "        self.train_df = train_df\n",
    "        self.val_df = val_df\n",
    "        self.test_df = test_df\n",
    "        self.tokenizer = tokenizer\n",
    "        self.max_token_len = max_token_len\n",
    "\n",
    "    def setup(self, stage=None):\n",
    "        self.train_dataset = TwitterDataset(\n",
    "            self.train_df,\n",
    "            self.tokenizer,\n",
    "            self.max_token_len\n",
    "        )\n",
    "        self.val_dataset = TwitterDataset(\n",
    "            self.val_df,\n",
    "            self.tokenizer,\n",
    "            self.max_token_len\n",
    "        )\n",
    "        self.test_dataset = TwitterDataset(\n",
    "            self.test_df,\n",
    "            self.tokenizer,\n",
    "            self.max_token_len\n",
    "        )\n",
    "\n",
    "    def train_dataloader(self):\n",
    "        return DataLoader(\n",
    "            self.train_dataset,\n",
    "            batch_size=self.batch_size,\n",
    "            # num_workers=4\n",
    "        )\n",
    "\n",
    "    def val_dataloader(self):\n",
    "        return DataLoader(\n",
    "            self.val_dataset,\n",
    "            batch_size=self.batch_size,\n",
    "            # num_workers=4\n",
    "        )\n",
    "\n",
    "    def test_dataloader(self):\n",
    "        return DataLoader(\n",
    "            self.test_dataset,\n",
    "            batch_size=self.batch_size,\n",
    "            # num_workers=4\n",
    "        )\n"
   ]
  },
  {
   "cell_type": "code",
   "execution_count": 13,
   "metadata": {},
   "outputs": [],
   "source": [
    "N_EPOCHS = 2\n",
    "BATCH_SIZE = 12\n",
    "MAX_TOKEN_COUNT = 256\n",
    "data_module = TwitterDataModule(\n",
    "    train_df,\n",
    "    val_df,\n",
    "    test_df,\n",
    "    tokenizer,\n",
    "    batch_size=BATCH_SIZE,\n",
    "    max_token_len=MAX_TOKEN_COUNT\n",
    ")\n",
    "data_module.setup()"
   ]
  },
  {
   "cell_type": "code",
   "execution_count": 14,
   "metadata": {},
   "outputs": [],
   "source": [
    "class TwitterNeuralNet(pl.LightningModule):\n",
    "    def __init__(self, n_classes: int, n_training_steps=None, n_warmup_steps=None):\n",
    "        super().__init__()\n",
    "        self.bert = AutoModel.from_pretrained(\n",
    "            BERT_MODEL_NAME, return_dict=True)\n",
    "        self.classifier = nn.Linear(self.bert.config.hidden_size, n_classes)\n",
    "        self.n_training_steps = n_training_steps\n",
    "        self.n_warmup_steps = n_warmup_steps\n",
    "        self.criterion = nn.BCELoss()\n",
    "\n",
    "    def forward(self, input_ids, attention_mask, labels=None):\n",
    "        output = self.bert(input_ids, attention_mask=attention_mask)\n",
    "        pooled = torch.mean(output.last_hidden_state,1)\n",
    "        output = self.classifier(pooled)\n",
    "        output = torch.sigmoid(output)\n",
    "        loss = 0\n",
    "        if labels is not None:\n",
    "            loss = self.criterion(output, labels)\n",
    "        \n",
    "        return loss, output\n",
    "\n",
    "    def training_step(self, batch, batch_idx):\n",
    "        input_ids = batch[\"input_ids\"]\n",
    "        attention_mask = batch[\"attention_mask\"]\n",
    "        labels = batch[\"labels\"]\n",
    "        loss, outputs = self(input_ids, attention_mask, labels)\n",
    "        self.log(\"train_loss\", loss, prog_bar=True, logger=True)\n",
    "        return {\"loss\": loss, \"predictions\": outputs, \"labels\": labels}\n",
    "\n",
    "    def validation_step(self, batch, batch_idx):\n",
    "        input_ids = batch[\"input_ids\"]\n",
    "        attention_mask = batch[\"attention_mask\"]\n",
    "        labels = batch[\"labels\"]\n",
    "        loss, outputs = self(input_ids, attention_mask, labels)\n",
    "        self.log(\"val_loss\", loss,prog_bar=True, logger=True)\n",
    "        return {\"val_loss\": loss, \"predictions\": outputs, \"labels\": labels}\n",
    "\n",
    "    def test_step(self, batch, batch_idx):\n",
    "        input_ids = batch[\"input_ids\"]\n",
    "        attention_mask = batch[\"attention_mask\"]\n",
    "        labels = batch[\"labels\"]\n",
    "        loss, outputs = self(input_ids, attention_mask, labels)\n",
    "        self.log(\"test_loss\", loss, prog_bar=True, logger=True)\n",
    "        return outputs\n",
    "\n",
    "    def configure_optimizers(self):\n",
    "        optimizer = AdamW(self.parameters(), lr=2e-5)\n",
    "        scheduler = get_linear_schedule_with_warmup(\n",
    "            optimizer,\n",
    "            num_warmup_steps=self.n_warmup_steps,\n",
    "            num_training_steps=self.n_training_steps\n",
    "        )\n",
    "        return dict(\n",
    "            optimizer=optimizer,\n",
    "            lr_scheduler=dict(\n",
    "                scheduler=scheduler,\n",
    "                interval='step'\n",
    "            )\n",
    "        )\n"
   ]
  },
  {
   "cell_type": "code",
   "execution_count": 15,
   "metadata": {},
   "outputs": [
    {
     "data": {
      "text/plain": [
       "(216, 432)"
      ]
     },
     "execution_count": 15,
     "metadata": {},
     "output_type": "execute_result"
    }
   ],
   "source": [
    "steps_per_epoch = len(train_df) // BATCH_SIZE\n",
    "total_training_steps = steps_per_epoch * N_EPOCHS\n",
    "steps_per_epoch, total_training_steps"
   ]
  },
  {
   "cell_type": "code",
   "execution_count": 16,
   "metadata": {},
   "outputs": [
    {
     "data": {
      "text/plain": [
       "(86, 432)"
      ]
     },
     "execution_count": 16,
     "metadata": {},
     "output_type": "execute_result"
    }
   ],
   "source": [
    "warmup_steps = total_training_steps // 5\n",
    "warmup_steps, total_training_steps\n"
   ]
  },
  {
   "cell_type": "code",
   "execution_count": 17,
   "metadata": {},
   "outputs": [
    {
     "name": "stderr",
     "output_type": "stream",
     "text": [
      "Some weights of the model checkpoint at bert-base-uncased were not used when initializing BertModel: ['cls.seq_relationship.bias', 'cls.predictions.transform.LayerNorm.bias', 'cls.predictions.decoder.weight', 'cls.predictions.transform.LayerNorm.weight', 'cls.seq_relationship.weight', 'cls.predictions.bias', 'cls.predictions.transform.dense.bias', 'cls.predictions.transform.dense.weight']\n",
      "- This IS expected if you are initializing BertModel from the checkpoint of a model trained on another task or with another architecture (e.g. initializing a BertForSequenceClassification model from a BertForPreTraining model).\n",
      "- This IS NOT expected if you are initializing BertModel from the checkpoint of a model that you expect to be exactly identical (initializing a BertForSequenceClassification model from a BertForSequenceClassification model).\n"
     ]
    }
   ],
   "source": [
    "model = TwitterNeuralNet(\n",
    "    n_classes=len(LABEL_COLUMNS),\n",
    "    n_warmup_steps=warmup_steps,\n",
    "    n_training_steps=total_training_steps\n",
    ")\n"
   ]
  },
  {
   "cell_type": "code",
   "execution_count": 18,
   "metadata": {},
   "outputs": [],
   "source": [
    "_, predictions = model(\n",
    "    sample_batch[\"input_ids\"], sample_batch[\"attention_mask\"])\n",
    "# predictions\n"
   ]
  },
  {
   "cell_type": "code",
   "execution_count": 19,
   "metadata": {},
   "outputs": [],
   "source": [
    "logger = TensorBoardLogger(\"lightning_logs\",\n",
    " 'twitter-task2')"
   ]
  },
  {
   "cell_type": "code",
   "execution_count": 20,
   "metadata": {},
   "outputs": [],
   "source": [
    "checkpoint_callback = ModelCheckpoint(\n",
    "    dirpath=\"checkpoints\",\n",
    "    filename=\"best-checkpoint\",\n",
    "    save_top_k=1,\n",
    "    verbose=True,\n",
    "    monitor=\"val_loss\",\n",
    "    mode=\"min\"\n",
    ")\n"
   ]
  },
  {
   "cell_type": "code",
   "execution_count": 21,
   "metadata": {},
   "outputs": [
    {
     "name": "stderr",
     "output_type": "stream",
     "text": [
      "C:\\Users\\Arian\\.conda\\envs\\ai-ds-test5\\lib\\site-packages\\pytorch_lightning\\trainer\\connectors\\callback_connector.py:151: LightningDeprecationWarning: Setting `Trainer(checkpoint_callback=<pytorch_lightning.callbacks.model_checkpoint.ModelCheckpoint object at 0x0000020186387AC0>)` is deprecated in v1.5 and will be removed in v1.7. Please consider using `Trainer(enable_checkpointing=<pytorch_lightning.callbacks.model_checkpoint.ModelCheckpoint object at 0x0000020186387AC0>)`.\n",
      "  rank_zero_deprecation(\n",
      "C:\\Users\\Arian\\.conda\\envs\\ai-ds-test5\\lib\\site-packages\\pytorch_lightning\\trainer\\connectors\\callback_connector.py:96: LightningDeprecationWarning: Setting `Trainer(progress_bar_refresh_rate=3)` is deprecated in v1.5 and will be removed in v1.7. Please pass `pytorch_lightning.callbacks.progress.TQDMProgressBar` with `refresh_rate` directly to the Trainer's `callbacks` argument instead. Or, to disable the progress bar pass `enable_progress_bar = False` to the Trainer.\n",
      "  rank_zero_deprecation(\n",
      "GPU available: True, used: True\n",
      "TPU available: False, using: 0 TPU cores\n",
      "IPU available: False, using: 0 IPUs\n",
      "HPU available: False, using: 0 HPUs\n"
     ]
    }
   ],
   "source": [
    "trainer = pl.Trainer(\n",
    "    max_epochs=N_EPOCHS, gpus=1,\n",
    "    progress_bar_refresh_rate=3,\n",
    "    logger=logger,\n",
    "  checkpoint_callback=checkpoint_callback,)\n"
   ]
  },
  {
   "cell_type": "code",
   "execution_count": 22,
   "metadata": {},
   "outputs": [
    {
     "name": "stderr",
     "output_type": "stream",
     "text": [
      "LOCAL_RANK: 0 - CUDA_VISIBLE_DEVICES: [0]\n",
      "C:\\Users\\Arian\\AppData\\Roaming\\Python\\Python39\\site-packages\\transformers\\optimization.py:306: FutureWarning: This implementation of AdamW is deprecated and will be removed in a future version. Use the PyTorch implementation torch.optim.AdamW instead, or set `no_deprecation_warning=True` to disable this warning\n",
      "  warnings.warn(\n",
      "\n",
      "  | Name       | Type      | Params\n",
      "-----------------------------------------\n",
      "0 | bert       | BertModel | 109 M \n",
      "1 | classifier | Linear    | 3.1 K \n",
      "2 | criterion  | BCELoss   | 0     \n",
      "-----------------------------------------\n",
      "109 M     Trainable params\n",
      "0         Non-trainable params\n",
      "109 M     Total params\n",
      "437.941   Total estimated model params size (MB)\n"
     ]
    },
    {
     "name": "stdout",
     "output_type": "stream",
     "text": [
      "Sanity Checking DataLoader 0:   0%|          | 0/2 [00:01<?, ?it/s]"
     ]
    },
    {
     "name": "stderr",
     "output_type": "stream",
     "text": [
      "C:\\Users\\Arian\\.conda\\envs\\ai-ds-test5\\lib\\site-packages\\pytorch_lightning\\trainer\\connectors\\data_connector.py:240: PossibleUserWarning: The dataloader, val_dataloader 0, does not have many workers which may be a bottleneck. Consider increasing the value of the `num_workers` argument` (try 16 which is the number of cpus on this machine) in the `DataLoader` init to improve performance.\n",
      "  rank_zero_warn(\n"
     ]
    },
    {
     "name": "stdout",
     "output_type": "stream",
     "text": [
      "                                                                           "
     ]
    },
    {
     "name": "stderr",
     "output_type": "stream",
     "text": [
      "C:\\Users\\Arian\\.conda\\envs\\ai-ds-test5\\lib\\site-packages\\pytorch_lightning\\trainer\\connectors\\data_connector.py:240: PossibleUserWarning: The dataloader, train_dataloader, does not have many workers which may be a bottleneck. Consider increasing the value of the `num_workers` argument` (try 16 which is the number of cpus on this machine) in the `DataLoader` init to improve performance.\n",
      "  rank_zero_warn(\n"
     ]
    },
    {
     "name": "stdout",
     "output_type": "stream",
     "text": [
      "Epoch 1: 100%|██████████| 264/264 [06:04<00:00,  1.38s/it, loss=0.169, v_num=4, train_loss=0.045, val_loss=0.259] \n"
     ]
    }
   ],
   "source": [
    "trainer.fit(model, data_module)\n"
   ]
  },
  {
   "cell_type": "code",
   "execution_count": 23,
   "metadata": {},
   "outputs": [
    {
     "name": "stderr",
     "output_type": "stream",
     "text": [
      "LOCAL_RANK: 0 - CUDA_VISIBLE_DEVICES: [0]\n",
      "C:\\Users\\Arian\\.conda\\envs\\ai-ds-test5\\lib\\site-packages\\pytorch_lightning\\trainer\\connectors\\data_connector.py:240: PossibleUserWarning: The dataloader, test_dataloader 0, does not have many workers which may be a bottleneck. Consider increasing the value of the `num_workers` argument` (try 16 which is the number of cpus on this machine) in the `DataLoader` init to improve performance.\n",
      "  rank_zero_warn(\n"
     ]
    },
    {
     "name": "stdout",
     "output_type": "stream",
     "text": [
      "Testing DataLoader 0: 100%|██████████| 47/47 [00:11<00:00,  3.98it/s]\n",
      "────────────────────────────────────────────────────────────────────────────────────────────────────────────────────────\n",
      "       Test metric             DataLoader 0\n",
      "────────────────────────────────────────────────────────────────────────────────────────────────────────────────────────\n",
      "        test_loss           0.2326652705669403\n",
      "────────────────────────────────────────────────────────────────────────────────────────────────────────────────────────\n"
     ]
    },
    {
     "data": {
      "text/plain": [
       "[{'test_loss': 0.2326652705669403}]"
      ]
     },
     "execution_count": 23,
     "metadata": {},
     "output_type": "execute_result"
    }
   ],
   "source": [
    "trainer.test(model, data_module.test_dataloader())"
   ]
  },
  {
   "cell_type": "markdown",
   "metadata": {},
   "source": [
    "### EXPORT MODEL"
   ]
  },
  {
   "cell_type": "code",
   "execution_count": null,
   "metadata": {},
   "outputs": [],
   "source": [
    "PATH = './saved_model'\n",
    "torch.save(model.state_dict(), PATH)"
   ]
  },
  {
   "cell_type": "markdown",
   "metadata": {},
   "source": [
    "### EVALUATE MODEL"
   ]
  },
  {
   "cell_type": "code",
   "execution_count": 32,
   "metadata": {},
   "outputs": [],
   "source": [
    "import copy\n",
    "trained_model = copy.deepcopy(model)\n",
    "trained_model.eval()\n",
    "trained_model.freeze()"
   ]
  },
  {
   "cell_type": "code",
   "execution_count": null,
   "metadata": {},
   "outputs": [],
   "source": [
    "test_text = 'Die you useless piece of trash'\n",
    "test_text = tokenizer.encode_plus(\n",
    "    test_text,\n",
    "    add_special_tokens=True,\n",
    "    max_length=256,\n",
    "    return_token_type_ids=False,\n",
    "    padding=\"max_length\",\n",
    "    truncation=True,\n",
    "    return_attention_mask=True,\n",
    "    return_tensors='pt'\n",
    ")\n",
    "\n",
    "test_input_ids, test_att_mask = test_text['input_ids'], test_text['attention_mask']\n",
    "_, output = trained_model(test_input_ids, test_att_mask)\n",
    "\n",
    "# _, output = model(test_input_ids.unsqueeze(0), test_att_mask.unsqueeze(0),None)\n",
    "print(output)\n",
    "print(id2label)\n",
    "print(id2label[int(torch.argmax(output))])\n"
   ]
  },
  {
   "cell_type": "code",
   "execution_count": 54,
   "metadata": {},
   "outputs": [
    {
     "data": {
      "text/plain": [
       "556"
      ]
     },
     "execution_count": 54,
     "metadata": {},
     "output_type": "execute_result"
    }
   ],
   "source": [
    "len(test_dataset)"
   ]
  },
  {
   "cell_type": "code",
   "execution_count": 87,
   "metadata": {},
   "outputs": [
    {
     "name": "stdout",
     "output_type": "stream",
     "text": [
      "PRFN | PRFN fuck this\n",
      "NONE | NONE the mother of dragons\n",
      "OFFN | NONE as in  some people need deliverance\n",
      "NONE | NONE  scroll downkeep scrollingnow you are obligated to stre\n",
      "NONE | NONE days of work down more to go send help and chocolate x\n",
      "NONE | PRFN i sholl was fixing to ssy damn sis big ole freak\n",
      "NONE | PRFN  me tries to sneak a vape elicia are you fucking kidding me are you vaping during this loona session i have never bee\n",
      "NONE | NONE  scroll downkeep scrollingnow you are obligated to re\n",
      "PRFN | PRFN  its too late for all that lovey dovey shit\n",
      "NONE | NONE i will make you trust me and when you have told me everything i need to know i will kill you light\n",
      "PRFN | PRFN i forgot how much buying concert tickets stresses me the fuck out\n",
      "PRFN | PRFN fuck yeah it is how stupid of me sorry was just rage tweeting n not paying attention\n",
      "Accuracy: 0.8309352517985612\n"
     ]
    }
   ],
   "source": [
    "device = torch.device('cuda' if torch.cuda.is_available() else 'cpu')\n",
    "trained_model = trained_model.to(device)\n",
    "\n",
    "predictions = []\n",
    "labels = []\n",
    "\n",
    "counter = 0\n",
    "true_counter = 0\n",
    "\n",
    "for idx, item in enumerate(test_dataset):\n",
    "    _, prediction = trained_model(\n",
    "       item['input_ids'].unsqueeze(dim=0).to(device),\n",
    "       item['attention_mask'].unsqueeze(dim=0).to(device)\n",
    "    )\n",
    "    predictions.append(prediction.flatten())\n",
    "    true_label = id2label[int(torch.argmax(item['labels']))]\n",
    "    guess_label = id2label[int(torch.argmax(predictions[counter]))]\n",
    "    \n",
    "    if counter % 50 == 0:\n",
    "      text_val = test_df.iloc[idx]['text']\n",
    "      print(f'{true_label} | {guess_label} {text_val}')\n",
    "    if true_label==guess_label:\n",
    "        true_counter+=1\n",
    "   \n",
    "    labels.append(item['labels'].int())\n",
    "    counter += 1\n",
    "\n",
    "print(f'Accuracy: {true_counter/len(test_dataset)}')"
   ]
  },
  {
   "cell_type": "code",
   "execution_count": 83,
   "metadata": {},
   "outputs": [
    {
     "data": {
      "text/plain": [
       "tensor(0.9173)"
      ]
     },
     "execution_count": 83,
     "metadata": {},
     "output_type": "execute_result"
    }
   ],
   "source": [
    "predictions_ = torch.stack(predictions).detach().cpu()\n",
    "labels_ = torch.stack(labels).detach().cpu()\n",
    "\n",
    "\n",
    "THRESHOLD = 0.5\n",
    "\n",
    "accuracy_score = accuracy(predictions_, labels_, threshold=THRESHOLD)\n",
    "accuracy_score"
   ]
  },
  {
   "cell_type": "code",
   "execution_count": 38,
   "metadata": {},
   "outputs": [
    {
     "data": {
      "text/plain": [
       "Reusing TensorBoard on port 6006 (pid 7180), started 5:40:18 ago. (Use '!kill 7180' to kill it.)"
      ]
     },
     "metadata": {},
     "output_type": "display_data"
    },
    {
     "data": {
      "text/html": [
       "\n",
       "      <iframe id=\"tensorboard-frame-55fb548181f0da11\" width=\"100%\" height=\"800\" frameborder=\"0\">\n",
       "      </iframe>\n",
       "      <script>\n",
       "        (function() {\n",
       "          const frame = document.getElementById(\"tensorboard-frame-55fb548181f0da11\");\n",
       "          const url = new URL(\"http://localhost\");\n",
       "          const port = 6006;\n",
       "          if (port) {\n",
       "            url.port = port;\n",
       "          }\n",
       "          frame.src = url;\n",
       "        })();\n",
       "      </script>\n",
       "    "
      ],
      "text/plain": [
       "<IPython.core.display.HTML object>"
      ]
     },
     "metadata": {},
     "output_type": "display_data"
    }
   ],
   "source": [
    "%load_ext tensorboard\n",
    "%tensorboard --logdir ./lightning_logs/twitter-task2\n",
    "%matplotlib inline\n"
   ]
  },
  {
   "cell_type": "code",
   "execution_count": null,
   "metadata": {},
   "outputs": [],
   "source": [
    "device = torch.device('cuda' if torch.cuda.is_available() else 'cpu')\n",
    "trained_model = trained_model.to(device)\n",
    "\n"
   ]
  },
  {
   "cell_type": "markdown",
   "metadata": {},
   "source": [
    "#### TRAINING\n"
   ]
  },
  {
   "cell_type": "code",
   "execution_count": null,
   "metadata": {},
   "outputs": [],
   "source": [
    "# import pickle\n",
    "# filename = './saved_models/task1_model.pkl'\n",
    "# outfile = open(filename, 'wb')\n",
    "# pickle.dump(model, outfile)\n",
    "# outfile.close()\n"
   ]
  },
  {
   "cell_type": "code",
   "execution_count": null,
   "metadata": {},
   "outputs": [],
   "source": [
    "# import torch\n",
    "# import pickle\n",
    "# from transformers import DistilBertTokenizerFast\n",
    "# import torch.nn.functional as F\n",
    "\n",
    "# device = torch.device(\n",
    "#     'cuda') if torch.cuda.is_available() else torch.device('cpu')\n",
    "# model.to(device)\n",
    "\n",
    "# pickle_in = open('./saved_models/task1_model.pkl', 'rb')\n",
    "# model = pickle.load(pickle_in)\n",
    "# model = model.to(device)\n",
    "\n",
    "# model_name = \"distilbert-base-uncased\"\n",
    "# tokenizer = AutoModel.from_pretrained(model_name)\n"
   ]
  },
  {
   "cell_type": "code",
   "execution_count": null,
   "metadata": {},
   "outputs": [
    {
     "name": "stdout",
     "output_type": "stream",
     "text": [
      "HOF\n"
     ]
    }
   ],
   "source": [
    "# sample_test = ['All asian people are criminals'.lower()]\n",
    "# sample_test = tokenizer(sample_test, padding=True, truncation=True,\n",
    "#                         max_length=512, return_tensors='pt').to(device)\n",
    "\n",
    "# with torch.no_grad():\n",
    "#     outputs = model(**sample_test)\n",
    "#     prediction_batch = F.softmax(outputs.logits, dim=1)\n",
    "#     prediction_batch_label_id = torch.argmax(prediction_batch, dim=1)\n",
    "#     sample_test_prediction_label = model.config.id2label[int(\n",
    "#         prediction_batch_label_id[0])]\n",
    "#     print(sample_test_prediction_label)\n"
   ]
  },
  {
   "cell_type": "code",
   "execution_count": null,
   "metadata": {},
   "outputs": [
    {
     "name": "stdout",
     "output_type": "stream",
     "text": [
      "Prediction :HOF | Actual: HOF |             Prediction Accuracy: \n",
      "Prediction :NOT | Actual: NOT |             Prediction Accuracy: \n",
      "Prediction :NOT | Actual: NOT |             Prediction Accuracy: \n",
      "Prediction :NOT | Actual: NOT |             Prediction Accuracy: \n",
      "Prediction :NOT | Actual: HOF |             Prediction Accuracy: \n",
      "Prediction :NOT | Actual: NOT |             Prediction Accuracy: \n",
      "Prediction :HOF | Actual: HOF |             Prediction Accuracy: \n",
      "Prediction :HOF | Actual: HOF |             Prediction Accuracy: \n",
      "Accuracy: 92.99191374663073\n"
     ]
    }
   ],
   "source": [
    "# import torch\n",
    "# import torch.nn.functional as F\n",
    "\n",
    "# with torch.no_grad():\n",
    "#     n_correct = 0\n",
    "#     n_samples = 0\n",
    "\n",
    "#     for item in test_loader:\n",
    "\n",
    "#         test_batch_text = item['input_ids']\n",
    "#         test_batch_attention_mask = item['attention_mask']\n",
    "#         test_batch_label_id = item['labels']\n",
    "#         test_batch_text = test_batch_text.to(device)\n",
    "#         test_batch_attention_mask = test_batch_attention_mask.to(device)\n",
    "#         test_batch_label_id = test_batch_label_id.to(device)\n",
    "\n",
    "#         outputs = model(test_batch_text)\n",
    "#         prediction_batch = F.softmax(outputs.logits, dim=1)\n",
    "#         prediction_batch_confidence = torch.max(prediction_batch, dim=1)\n",
    "#         # print(prediction_batch)\n",
    "#         # print('---------')\n",
    "#         # print(prediction_batch_confidence)\n",
    "#         # print('========')\n",
    "#         prediction_batch_label_id = torch.argmax(prediction_batch, dim=1)\n",
    "#         # prediction_labels = [model.config.id2label[label_id] for label_id in labels.tolist()]\n",
    "\n",
    "#         n_samples += len(test_batch_text)\n",
    "#         n_correct += (prediction_batch_label_id ==\n",
    "#                       test_batch_label_id).sum().item()\n",
    "\n",
    "#         for i in range(len(test_batch_text)):\n",
    "#             if n_samples % 300 == 0:\n",
    "#                 sample_test_text = tokenizer.decode(\n",
    "#                     test_batch_text[i], skip_special_tokens=True)\n",
    "#                 sample_test_label = model.config.id2label[int(\n",
    "#                     test_batch_label_id[i])]\n",
    "#                 sample_prediction_label = model.config.id2label[int(\n",
    "#                     prediction_batch_label_id[i])]\n",
    "\n",
    "#                 print(f'Prediction :{sample_prediction_label} | Actual: {sample_test_label} | \\\n",
    "#             Prediction Accuracy: ')\n",
    "\n",
    "#     acc = 100.0 * n_correct/n_samples\n",
    "#     print(f'Accuracy: {acc}')\n"
   ]
  },
  {
   "cell_type": "code",
   "execution_count": null,
   "metadata": {},
   "outputs": [],
   "source": []
  }
 ],
 "metadata": {
  "interpreter": {
   "hash": "cce0fa9ca151fc59ef80132faf12b1d36d7815ac2454a49ae42a11694118af52"
  },
  "kernelspec": {
   "display_name": "Python 3.9.12 ('ai-ds-test2')",
   "language": "python",
   "name": "python3"
  },
  "language_info": {
   "codemirror_mode": {
    "name": "ipython",
    "version": 3
   },
   "file_extension": ".py",
   "mimetype": "text/x-python",
   "name": "python",
   "nbconvert_exporter": "python",
   "pygments_lexer": "ipython3",
   "version": "3.9.12"
  },
  "orig_nbformat": 4
 },
 "nbformat": 4,
 "nbformat_minor": 2
}
