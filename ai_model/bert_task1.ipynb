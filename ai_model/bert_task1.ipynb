{
 "cells": [
  {
   "cell_type": "code",
   "execution_count": 1,
   "metadata": {},
   "outputs": [],
   "source": [
    "from pathlib import Path\n",
    "from sklearn.model_selection import train_test_split\n",
    "import torch\n",
    "from transformers import DistilBertTokenizerFast, DistilBertForSequenceClassification\n",
    "from torch.utils.data import Dataset\n",
    "import pandas as pd\n"
   ]
  },
  {
   "cell_type": "code",
   "execution_count": 2,
   "metadata": {},
   "outputs": [],
   "source": [
    "task_df = pd.read_csv('../res/preprocessed/task1/task1.csv')\n",
    "task_df = task_df.iloc[:,1:]\n",
    "task_df['labels'] = (task_df['task1'] == 'HOF').astype(int)\n",
    "task_df = task_df.dropna()"
   ]
  },
  {
   "cell_type": "code",
   "execution_count": 3,
   "metadata": {},
   "outputs": [],
   "source": [
    "all_texts, all_labels = list(task_df['text']), list(task_df['labels'])\n",
    "train_texts, test_texts, train_labels, test_labels = train_test_split(all_texts, all_labels,test_size=0.2)\n",
    "# print(len(train_texts))\n",
    "# print(len(test_texts))"
   ]
  },
  {
   "cell_type": "code",
   "execution_count": 4,
   "metadata": {},
   "outputs": [
    {
     "name": "stdout",
     "output_type": "stream",
     "text": [
      "{0: 'NOT', 1: 'HOF'}\n",
      "{'NOT': 0, 'HOF': 1}\n"
     ]
    }
   ],
   "source": [
    "labels = ['NOT', 'HOF']\n",
    "id2label = {idx:label for idx, label in enumerate(labels)}\n",
    "label2id = {label:idx for idx, label in enumerate(labels)}\n",
    "\n",
    "print(id2label)\n",
    "print(label2id)\n"
   ]
  },
  {
   "cell_type": "code",
   "execution_count": 5,
   "metadata": {},
   "outputs": [],
   "source": [
    "class TwitterDataset(Dataset):\n",
    "   def __init__(self, encodings, labels):\n",
    "      self.encodings = encodings\n",
    "      self.labels = labels\n",
    "\n",
    "   def __getitem__(self, idx):\n",
    "      item = {key: torch.tensor(val[idx])\n",
    "              for key, val in self.encodings.items()}\n",
    "      item['labels'] = torch.tensor(self.labels[idx])\n",
    "      return item\n",
    "\n",
    "   def __len__(self):\n",
    "      return len(self.labels)"
   ]
  },
  {
   "cell_type": "code",
   "execution_count": 6,
   "metadata": {},
   "outputs": [],
   "source": [
    "model_name = \"distilbert-base-uncased\"\n",
    "tokenizer = DistilBertTokenizerFast.from_pretrained(model_name)\n",
    "\n",
    "train_encodings = tokenizer(train_texts, truncation=True,max_length=512, padding=True)\n",
    "test_encodings = tokenizer(test_texts, truncation=True,max_length=512, padding=True)\n",
    "\n",
    "train_dataset = TwitterDataset(train_encodings, train_labels)\n",
    "test_dataset = TwitterDataset(test_encodings, test_labels)"
   ]
  },
  {
   "cell_type": "code",
   "execution_count": 7,
   "metadata": {},
   "outputs": [],
   "source": [
    "# train_dataset[0]"
   ]
  },
  {
   "cell_type": "code",
   "execution_count": 8,
   "metadata": {},
   "outputs": [
    {
     "name": "stderr",
     "output_type": "stream",
     "text": [
      "Some weights of the model checkpoint at distilbert-base-uncased were not used when initializing DistilBertForSequenceClassification: ['vocab_projector.weight', 'vocab_projector.bias', 'vocab_layer_norm.weight', 'vocab_transform.bias', 'vocab_layer_norm.bias', 'vocab_transform.weight']\n",
      "- This IS expected if you are initializing DistilBertForSequenceClassification from the checkpoint of a model trained on another task or with another architecture (e.g. initializing a BertForSequenceClassification model from a BertForPreTraining model).\n",
      "- This IS NOT expected if you are initializing DistilBertForSequenceClassification from the checkpoint of a model that you expect to be exactly identical (initializing a BertForSequenceClassification model from a BertForSequenceClassification model).\n",
      "Some weights of DistilBertForSequenceClassification were not initialized from the model checkpoint at distilbert-base-uncased and are newly initialized: ['classifier.weight', 'pre_classifier.bias', 'pre_classifier.weight', 'classifier.bias']\n",
      "You should probably TRAIN this model on a down-stream task to be able to use it for predictions and inference.\n"
     ]
    },
    {
     "data": {
      "text/plain": [
       "DistilBertForSequenceClassification(\n",
       "  (distilbert): DistilBertModel(\n",
       "    (embeddings): Embeddings(\n",
       "      (word_embeddings): Embedding(30522, 768, padding_idx=0)\n",
       "      (position_embeddings): Embedding(512, 768)\n",
       "      (LayerNorm): LayerNorm((768,), eps=1e-12, elementwise_affine=True)\n",
       "      (dropout): Dropout(p=0.1, inplace=False)\n",
       "    )\n",
       "    (transformer): Transformer(\n",
       "      (layer): ModuleList(\n",
       "        (0): TransformerBlock(\n",
       "          (attention): MultiHeadSelfAttention(\n",
       "            (dropout): Dropout(p=0.1, inplace=False)\n",
       "            (q_lin): Linear(in_features=768, out_features=768, bias=True)\n",
       "            (k_lin): Linear(in_features=768, out_features=768, bias=True)\n",
       "            (v_lin): Linear(in_features=768, out_features=768, bias=True)\n",
       "            (out_lin): Linear(in_features=768, out_features=768, bias=True)\n",
       "          )\n",
       "          (sa_layer_norm): LayerNorm((768,), eps=1e-12, elementwise_affine=True)\n",
       "          (ffn): FFN(\n",
       "            (dropout): Dropout(p=0.1, inplace=False)\n",
       "            (lin1): Linear(in_features=768, out_features=3072, bias=True)\n",
       "            (lin2): Linear(in_features=3072, out_features=768, bias=True)\n",
       "          )\n",
       "          (output_layer_norm): LayerNorm((768,), eps=1e-12, elementwise_affine=True)\n",
       "        )\n",
       "        (1): TransformerBlock(\n",
       "          (attention): MultiHeadSelfAttention(\n",
       "            (dropout): Dropout(p=0.1, inplace=False)\n",
       "            (q_lin): Linear(in_features=768, out_features=768, bias=True)\n",
       "            (k_lin): Linear(in_features=768, out_features=768, bias=True)\n",
       "            (v_lin): Linear(in_features=768, out_features=768, bias=True)\n",
       "            (out_lin): Linear(in_features=768, out_features=768, bias=True)\n",
       "          )\n",
       "          (sa_layer_norm): LayerNorm((768,), eps=1e-12, elementwise_affine=True)\n",
       "          (ffn): FFN(\n",
       "            (dropout): Dropout(p=0.1, inplace=False)\n",
       "            (lin1): Linear(in_features=768, out_features=3072, bias=True)\n",
       "            (lin2): Linear(in_features=3072, out_features=768, bias=True)\n",
       "          )\n",
       "          (output_layer_norm): LayerNorm((768,), eps=1e-12, elementwise_affine=True)\n",
       "        )\n",
       "        (2): TransformerBlock(\n",
       "          (attention): MultiHeadSelfAttention(\n",
       "            (dropout): Dropout(p=0.1, inplace=False)\n",
       "            (q_lin): Linear(in_features=768, out_features=768, bias=True)\n",
       "            (k_lin): Linear(in_features=768, out_features=768, bias=True)\n",
       "            (v_lin): Linear(in_features=768, out_features=768, bias=True)\n",
       "            (out_lin): Linear(in_features=768, out_features=768, bias=True)\n",
       "          )\n",
       "          (sa_layer_norm): LayerNorm((768,), eps=1e-12, elementwise_affine=True)\n",
       "          (ffn): FFN(\n",
       "            (dropout): Dropout(p=0.1, inplace=False)\n",
       "            (lin1): Linear(in_features=768, out_features=3072, bias=True)\n",
       "            (lin2): Linear(in_features=3072, out_features=768, bias=True)\n",
       "          )\n",
       "          (output_layer_norm): LayerNorm((768,), eps=1e-12, elementwise_affine=True)\n",
       "        )\n",
       "        (3): TransformerBlock(\n",
       "          (attention): MultiHeadSelfAttention(\n",
       "            (dropout): Dropout(p=0.1, inplace=False)\n",
       "            (q_lin): Linear(in_features=768, out_features=768, bias=True)\n",
       "            (k_lin): Linear(in_features=768, out_features=768, bias=True)\n",
       "            (v_lin): Linear(in_features=768, out_features=768, bias=True)\n",
       "            (out_lin): Linear(in_features=768, out_features=768, bias=True)\n",
       "          )\n",
       "          (sa_layer_norm): LayerNorm((768,), eps=1e-12, elementwise_affine=True)\n",
       "          (ffn): FFN(\n",
       "            (dropout): Dropout(p=0.1, inplace=False)\n",
       "            (lin1): Linear(in_features=768, out_features=3072, bias=True)\n",
       "            (lin2): Linear(in_features=3072, out_features=768, bias=True)\n",
       "          )\n",
       "          (output_layer_norm): LayerNorm((768,), eps=1e-12, elementwise_affine=True)\n",
       "        )\n",
       "        (4): TransformerBlock(\n",
       "          (attention): MultiHeadSelfAttention(\n",
       "            (dropout): Dropout(p=0.1, inplace=False)\n",
       "            (q_lin): Linear(in_features=768, out_features=768, bias=True)\n",
       "            (k_lin): Linear(in_features=768, out_features=768, bias=True)\n",
       "            (v_lin): Linear(in_features=768, out_features=768, bias=True)\n",
       "            (out_lin): Linear(in_features=768, out_features=768, bias=True)\n",
       "          )\n",
       "          (sa_layer_norm): LayerNorm((768,), eps=1e-12, elementwise_affine=True)\n",
       "          (ffn): FFN(\n",
       "            (dropout): Dropout(p=0.1, inplace=False)\n",
       "            (lin1): Linear(in_features=768, out_features=3072, bias=True)\n",
       "            (lin2): Linear(in_features=3072, out_features=768, bias=True)\n",
       "          )\n",
       "          (output_layer_norm): LayerNorm((768,), eps=1e-12, elementwise_affine=True)\n",
       "        )\n",
       "        (5): TransformerBlock(\n",
       "          (attention): MultiHeadSelfAttention(\n",
       "            (dropout): Dropout(p=0.1, inplace=False)\n",
       "            (q_lin): Linear(in_features=768, out_features=768, bias=True)\n",
       "            (k_lin): Linear(in_features=768, out_features=768, bias=True)\n",
       "            (v_lin): Linear(in_features=768, out_features=768, bias=True)\n",
       "            (out_lin): Linear(in_features=768, out_features=768, bias=True)\n",
       "          )\n",
       "          (sa_layer_norm): LayerNorm((768,), eps=1e-12, elementwise_affine=True)\n",
       "          (ffn): FFN(\n",
       "            (dropout): Dropout(p=0.1, inplace=False)\n",
       "            (lin1): Linear(in_features=768, out_features=3072, bias=True)\n",
       "            (lin2): Linear(in_features=3072, out_features=768, bias=True)\n",
       "          )\n",
       "          (output_layer_norm): LayerNorm((768,), eps=1e-12, elementwise_affine=True)\n",
       "        )\n",
       "      )\n",
       "    )\n",
       "  )\n",
       "  (pre_classifier): Linear(in_features=768, out_features=768, bias=True)\n",
       "  (classifier): Linear(in_features=768, out_features=2, bias=True)\n",
       "  (dropout): Dropout(p=0.2, inplace=False)\n",
       ")"
      ]
     },
     "execution_count": 8,
     "metadata": {},
     "output_type": "execute_result"
    }
   ],
   "source": [
    "from torch.utils.data import DataLoader\n",
    "from transformers import AdamW\n",
    "model = DistilBertForSequenceClassification.from_pretrained(\n",
    "    'distilbert-base-uncased',\n",
    "    num_labels=len(labels), id2label=id2label, label2id=label2id)\n",
    "\n",
    "device = torch.device(\n",
    "    'cuda') if torch.cuda.is_available() else torch.device('cpu')\n",
    "model.to(device)\n"
   ]
  },
  {
   "cell_type": "code",
   "execution_count": 9,
   "metadata": {},
   "outputs": [],
   "source": [
    "train_loader = DataLoader(train_dataset, batch_size=8, shuffle=True)\n",
    "test_loader = DataLoader(test_dataset, batch_size=8, shuffle=False)\n"
   ]
  },
  {
   "cell_type": "code",
   "execution_count": 10,
   "metadata": {},
   "outputs": [],
   "source": [
    "# iter(test_loader).next()"
   ]
  },
  {
   "cell_type": "markdown",
   "metadata": {},
   "source": [
    "#### TRAINING"
   ]
  },
  {
   "cell_type": "code",
   "execution_count": 11,
   "metadata": {},
   "outputs": [
    {
     "ename": "KeyboardInterrupt",
     "evalue": "",
     "output_type": "error",
     "traceback": [
      "\u001b[1;31m---------------------------------------------------------------------------\u001b[0m",
      "\u001b[1;31mKeyboardInterrupt\u001b[0m                         Traceback (most recent call last)",
      "\u001b[1;32me:\\BSCS 3- 2ND SEM\\9334-CS321-ARTIFICIAL_INTELLIGENCE\\GithubFinalProj\\hate-speech-model\\ai_model\\bert_task1.ipynb Cell 12'\u001b[0m in \u001b[0;36m<cell line: 4>\u001b[1;34m()\u001b[0m\n\u001b[0;32m      <a href='vscode-notebook-cell:/e%3A/BSCS%203-%202ND%20SEM/9334-CS321-ARTIFICIAL_INTELLIGENCE/GithubFinalProj/hate-speech-model/ai_model/bert_task1.ipynb#ch0000011?line=7'>8</a>\u001b[0m attention_mask \u001b[39m=\u001b[39m batch[\u001b[39m'\u001b[39m\u001b[39mattention_mask\u001b[39m\u001b[39m'\u001b[39m]\u001b[39m.\u001b[39mto(device)\n\u001b[0;32m     <a href='vscode-notebook-cell:/e%3A/BSCS%203-%202ND%20SEM/9334-CS321-ARTIFICIAL_INTELLIGENCE/GithubFinalProj/hate-speech-model/ai_model/bert_task1.ipynb#ch0000011?line=9'>10</a>\u001b[0m labels \u001b[39m=\u001b[39m batch[\u001b[39m'\u001b[39m\u001b[39mlabels\u001b[39m\u001b[39m'\u001b[39m]\u001b[39m.\u001b[39mto(device)\n\u001b[1;32m---> <a href='vscode-notebook-cell:/e%3A/BSCS%203-%202ND%20SEM/9334-CS321-ARTIFICIAL_INTELLIGENCE/GithubFinalProj/hate-speech-model/ai_model/bert_task1.ipynb#ch0000011?line=11'>12</a>\u001b[0m outputs \u001b[39m=\u001b[39m model(input_ids, attention_mask\u001b[39m=\u001b[39;49mattention_mask, labels\u001b[39m=\u001b[39;49mlabels)\n\u001b[0;32m     <a href='vscode-notebook-cell:/e%3A/BSCS%203-%202ND%20SEM/9334-CS321-ARTIFICIAL_INTELLIGENCE/GithubFinalProj/hate-speech-model/ai_model/bert_task1.ipynb#ch0000011?line=13'>14</a>\u001b[0m loss \u001b[39m=\u001b[39m outputs[\u001b[39m0\u001b[39m]\n\u001b[0;32m     <a href='vscode-notebook-cell:/e%3A/BSCS%203-%202ND%20SEM/9334-CS321-ARTIFICIAL_INTELLIGENCE/GithubFinalProj/hate-speech-model/ai_model/bert_task1.ipynb#ch0000011?line=14'>15</a>\u001b[0m optim\u001b[39m.\u001b[39mzero_grad()\n",
      "File \u001b[1;32m~\\.conda\\envs\\ai-ds-test2\\lib\\site-packages\\torch\\nn\\modules\\module.py:1110\u001b[0m, in \u001b[0;36mModule._call_impl\u001b[1;34m(self, *input, **kwargs)\u001b[0m\n\u001b[0;32m   <a href='file:///c%3A/Users/Arian/.conda/envs/ai-ds-test2/lib/site-packages/torch/nn/modules/module.py?line=1105'>1106</a>\u001b[0m \u001b[39m# If we don't have any hooks, we want to skip the rest of the logic in\u001b[39;00m\n\u001b[0;32m   <a href='file:///c%3A/Users/Arian/.conda/envs/ai-ds-test2/lib/site-packages/torch/nn/modules/module.py?line=1106'>1107</a>\u001b[0m \u001b[39m# this function, and just call forward.\u001b[39;00m\n\u001b[0;32m   <a href='file:///c%3A/Users/Arian/.conda/envs/ai-ds-test2/lib/site-packages/torch/nn/modules/module.py?line=1107'>1108</a>\u001b[0m \u001b[39mif\u001b[39;00m \u001b[39mnot\u001b[39;00m (\u001b[39mself\u001b[39m\u001b[39m.\u001b[39m_backward_hooks \u001b[39mor\u001b[39;00m \u001b[39mself\u001b[39m\u001b[39m.\u001b[39m_forward_hooks \u001b[39mor\u001b[39;00m \u001b[39mself\u001b[39m\u001b[39m.\u001b[39m_forward_pre_hooks \u001b[39mor\u001b[39;00m _global_backward_hooks\n\u001b[0;32m   <a href='file:///c%3A/Users/Arian/.conda/envs/ai-ds-test2/lib/site-packages/torch/nn/modules/module.py?line=1108'>1109</a>\u001b[0m         \u001b[39mor\u001b[39;00m _global_forward_hooks \u001b[39mor\u001b[39;00m _global_forward_pre_hooks):\n\u001b[1;32m-> <a href='file:///c%3A/Users/Arian/.conda/envs/ai-ds-test2/lib/site-packages/torch/nn/modules/module.py?line=1109'>1110</a>\u001b[0m     \u001b[39mreturn\u001b[39;00m forward_call(\u001b[39m*\u001b[39m\u001b[39minput\u001b[39m, \u001b[39m*\u001b[39m\u001b[39m*\u001b[39mkwargs)\n\u001b[0;32m   <a href='file:///c%3A/Users/Arian/.conda/envs/ai-ds-test2/lib/site-packages/torch/nn/modules/module.py?line=1110'>1111</a>\u001b[0m \u001b[39m# Do not call functions when jit is used\u001b[39;00m\n\u001b[0;32m   <a href='file:///c%3A/Users/Arian/.conda/envs/ai-ds-test2/lib/site-packages/torch/nn/modules/module.py?line=1111'>1112</a>\u001b[0m full_backward_hooks, non_full_backward_hooks \u001b[39m=\u001b[39m [], []\n",
      "File \u001b[1;32m~\\.conda\\envs\\ai-ds-test2\\lib\\site-packages\\transformers\\models\\distilbert\\modeling_distilbert.py:617\u001b[0m, in \u001b[0;36mDistilBertForSequenceClassification.forward\u001b[1;34m(self, input_ids, attention_mask, head_mask, inputs_embeds, labels, output_attentions, output_hidden_states, return_dict)\u001b[0m\n\u001b[0;32m    <a href='file:///c%3A/Users/Arian/.conda/envs/ai-ds-test2/lib/site-packages/transformers/models/distilbert/modeling_distilbert.py?line=608'>609</a>\u001b[0m \u001b[39mr\u001b[39m\u001b[39m\"\"\"\u001b[39;00m\n\u001b[0;32m    <a href='file:///c%3A/Users/Arian/.conda/envs/ai-ds-test2/lib/site-packages/transformers/models/distilbert/modeling_distilbert.py?line=609'>610</a>\u001b[0m \u001b[39mlabels (:obj:`torch.LongTensor` of shape :obj:`(batch_size,)`, `optional`):\u001b[39;00m\n\u001b[0;32m    <a href='file:///c%3A/Users/Arian/.conda/envs/ai-ds-test2/lib/site-packages/transformers/models/distilbert/modeling_distilbert.py?line=610'>611</a>\u001b[0m \u001b[39m    Labels for computing the sequence classification/regression loss. Indices should be in :obj:`[0, ...,\u001b[39;00m\n\u001b[0;32m    <a href='file:///c%3A/Users/Arian/.conda/envs/ai-ds-test2/lib/site-packages/transformers/models/distilbert/modeling_distilbert.py?line=611'>612</a>\u001b[0m \u001b[39m    config.num_labels - 1]`. If :obj:`config.num_labels == 1` a regression loss is computed (Mean-Square loss),\u001b[39;00m\n\u001b[0;32m    <a href='file:///c%3A/Users/Arian/.conda/envs/ai-ds-test2/lib/site-packages/transformers/models/distilbert/modeling_distilbert.py?line=612'>613</a>\u001b[0m \u001b[39m    If :obj:`config.num_labels > 1` a classification loss is computed (Cross-Entropy).\u001b[39;00m\n\u001b[0;32m    <a href='file:///c%3A/Users/Arian/.conda/envs/ai-ds-test2/lib/site-packages/transformers/models/distilbert/modeling_distilbert.py?line=613'>614</a>\u001b[0m \u001b[39m\"\"\"\u001b[39;00m\n\u001b[0;32m    <a href='file:///c%3A/Users/Arian/.conda/envs/ai-ds-test2/lib/site-packages/transformers/models/distilbert/modeling_distilbert.py?line=614'>615</a>\u001b[0m return_dict \u001b[39m=\u001b[39m return_dict \u001b[39mif\u001b[39;00m return_dict \u001b[39mis\u001b[39;00m \u001b[39mnot\u001b[39;00m \u001b[39mNone\u001b[39;00m \u001b[39melse\u001b[39;00m \u001b[39mself\u001b[39m\u001b[39m.\u001b[39mconfig\u001b[39m.\u001b[39muse_return_dict\n\u001b[1;32m--> <a href='file:///c%3A/Users/Arian/.conda/envs/ai-ds-test2/lib/site-packages/transformers/models/distilbert/modeling_distilbert.py?line=616'>617</a>\u001b[0m distilbert_output \u001b[39m=\u001b[39m \u001b[39mself\u001b[39;49m\u001b[39m.\u001b[39;49mdistilbert(\n\u001b[0;32m    <a href='file:///c%3A/Users/Arian/.conda/envs/ai-ds-test2/lib/site-packages/transformers/models/distilbert/modeling_distilbert.py?line=617'>618</a>\u001b[0m     input_ids\u001b[39m=\u001b[39;49minput_ids,\n\u001b[0;32m    <a href='file:///c%3A/Users/Arian/.conda/envs/ai-ds-test2/lib/site-packages/transformers/models/distilbert/modeling_distilbert.py?line=618'>619</a>\u001b[0m     attention_mask\u001b[39m=\u001b[39;49mattention_mask,\n\u001b[0;32m    <a href='file:///c%3A/Users/Arian/.conda/envs/ai-ds-test2/lib/site-packages/transformers/models/distilbert/modeling_distilbert.py?line=619'>620</a>\u001b[0m     head_mask\u001b[39m=\u001b[39;49mhead_mask,\n\u001b[0;32m    <a href='file:///c%3A/Users/Arian/.conda/envs/ai-ds-test2/lib/site-packages/transformers/models/distilbert/modeling_distilbert.py?line=620'>621</a>\u001b[0m     inputs_embeds\u001b[39m=\u001b[39;49minputs_embeds,\n\u001b[0;32m    <a href='file:///c%3A/Users/Arian/.conda/envs/ai-ds-test2/lib/site-packages/transformers/models/distilbert/modeling_distilbert.py?line=621'>622</a>\u001b[0m     output_attentions\u001b[39m=\u001b[39;49moutput_attentions,\n\u001b[0;32m    <a href='file:///c%3A/Users/Arian/.conda/envs/ai-ds-test2/lib/site-packages/transformers/models/distilbert/modeling_distilbert.py?line=622'>623</a>\u001b[0m     output_hidden_states\u001b[39m=\u001b[39;49moutput_hidden_states,\n\u001b[0;32m    <a href='file:///c%3A/Users/Arian/.conda/envs/ai-ds-test2/lib/site-packages/transformers/models/distilbert/modeling_distilbert.py?line=623'>624</a>\u001b[0m     return_dict\u001b[39m=\u001b[39;49mreturn_dict,\n\u001b[0;32m    <a href='file:///c%3A/Users/Arian/.conda/envs/ai-ds-test2/lib/site-packages/transformers/models/distilbert/modeling_distilbert.py?line=624'>625</a>\u001b[0m )\n\u001b[0;32m    <a href='file:///c%3A/Users/Arian/.conda/envs/ai-ds-test2/lib/site-packages/transformers/models/distilbert/modeling_distilbert.py?line=625'>626</a>\u001b[0m hidden_state \u001b[39m=\u001b[39m distilbert_output[\u001b[39m0\u001b[39m]  \u001b[39m# (bs, seq_len, dim)\u001b[39;00m\n\u001b[0;32m    <a href='file:///c%3A/Users/Arian/.conda/envs/ai-ds-test2/lib/site-packages/transformers/models/distilbert/modeling_distilbert.py?line=626'>627</a>\u001b[0m pooled_output \u001b[39m=\u001b[39m hidden_state[:, \u001b[39m0\u001b[39m]  \u001b[39m# (bs, dim)\u001b[39;00m\n",
      "File \u001b[1;32m~\\.conda\\envs\\ai-ds-test2\\lib\\site-packages\\torch\\nn\\modules\\module.py:1110\u001b[0m, in \u001b[0;36mModule._call_impl\u001b[1;34m(self, *input, **kwargs)\u001b[0m\n\u001b[0;32m   <a href='file:///c%3A/Users/Arian/.conda/envs/ai-ds-test2/lib/site-packages/torch/nn/modules/module.py?line=1105'>1106</a>\u001b[0m \u001b[39m# If we don't have any hooks, we want to skip the rest of the logic in\u001b[39;00m\n\u001b[0;32m   <a href='file:///c%3A/Users/Arian/.conda/envs/ai-ds-test2/lib/site-packages/torch/nn/modules/module.py?line=1106'>1107</a>\u001b[0m \u001b[39m# this function, and just call forward.\u001b[39;00m\n\u001b[0;32m   <a href='file:///c%3A/Users/Arian/.conda/envs/ai-ds-test2/lib/site-packages/torch/nn/modules/module.py?line=1107'>1108</a>\u001b[0m \u001b[39mif\u001b[39;00m \u001b[39mnot\u001b[39;00m (\u001b[39mself\u001b[39m\u001b[39m.\u001b[39m_backward_hooks \u001b[39mor\u001b[39;00m \u001b[39mself\u001b[39m\u001b[39m.\u001b[39m_forward_hooks \u001b[39mor\u001b[39;00m \u001b[39mself\u001b[39m\u001b[39m.\u001b[39m_forward_pre_hooks \u001b[39mor\u001b[39;00m _global_backward_hooks\n\u001b[0;32m   <a href='file:///c%3A/Users/Arian/.conda/envs/ai-ds-test2/lib/site-packages/torch/nn/modules/module.py?line=1108'>1109</a>\u001b[0m         \u001b[39mor\u001b[39;00m _global_forward_hooks \u001b[39mor\u001b[39;00m _global_forward_pre_hooks):\n\u001b[1;32m-> <a href='file:///c%3A/Users/Arian/.conda/envs/ai-ds-test2/lib/site-packages/torch/nn/modules/module.py?line=1109'>1110</a>\u001b[0m     \u001b[39mreturn\u001b[39;00m forward_call(\u001b[39m*\u001b[39m\u001b[39minput\u001b[39m, \u001b[39m*\u001b[39m\u001b[39m*\u001b[39mkwargs)\n\u001b[0;32m   <a href='file:///c%3A/Users/Arian/.conda/envs/ai-ds-test2/lib/site-packages/torch/nn/modules/module.py?line=1110'>1111</a>\u001b[0m \u001b[39m# Do not call functions when jit is used\u001b[39;00m\n\u001b[0;32m   <a href='file:///c%3A/Users/Arian/.conda/envs/ai-ds-test2/lib/site-packages/torch/nn/modules/module.py?line=1111'>1112</a>\u001b[0m full_backward_hooks, non_full_backward_hooks \u001b[39m=\u001b[39m [], []\n",
      "File \u001b[1;32m~\\.conda\\envs\\ai-ds-test2\\lib\\site-packages\\transformers\\models\\distilbert\\modeling_distilbert.py:481\u001b[0m, in \u001b[0;36mDistilBertModel.forward\u001b[1;34m(self, input_ids, attention_mask, head_mask, inputs_embeds, output_attentions, output_hidden_states, return_dict)\u001b[0m\n\u001b[0;32m    <a href='file:///c%3A/Users/Arian/.conda/envs/ai-ds-test2/lib/site-packages/transformers/models/distilbert/modeling_distilbert.py?line=478'>479</a>\u001b[0m \u001b[39mif\u001b[39;00m inputs_embeds \u001b[39mis\u001b[39;00m \u001b[39mNone\u001b[39;00m:\n\u001b[0;32m    <a href='file:///c%3A/Users/Arian/.conda/envs/ai-ds-test2/lib/site-packages/transformers/models/distilbert/modeling_distilbert.py?line=479'>480</a>\u001b[0m     inputs_embeds \u001b[39m=\u001b[39m \u001b[39mself\u001b[39m\u001b[39m.\u001b[39membeddings(input_ids)  \u001b[39m# (bs, seq_length, dim)\u001b[39;00m\n\u001b[1;32m--> <a href='file:///c%3A/Users/Arian/.conda/envs/ai-ds-test2/lib/site-packages/transformers/models/distilbert/modeling_distilbert.py?line=480'>481</a>\u001b[0m \u001b[39mreturn\u001b[39;00m \u001b[39mself\u001b[39;49m\u001b[39m.\u001b[39;49mtransformer(\n\u001b[0;32m    <a href='file:///c%3A/Users/Arian/.conda/envs/ai-ds-test2/lib/site-packages/transformers/models/distilbert/modeling_distilbert.py?line=481'>482</a>\u001b[0m     x\u001b[39m=\u001b[39;49minputs_embeds,\n\u001b[0;32m    <a href='file:///c%3A/Users/Arian/.conda/envs/ai-ds-test2/lib/site-packages/transformers/models/distilbert/modeling_distilbert.py?line=482'>483</a>\u001b[0m     attn_mask\u001b[39m=\u001b[39;49mattention_mask,\n\u001b[0;32m    <a href='file:///c%3A/Users/Arian/.conda/envs/ai-ds-test2/lib/site-packages/transformers/models/distilbert/modeling_distilbert.py?line=483'>484</a>\u001b[0m     head_mask\u001b[39m=\u001b[39;49mhead_mask,\n\u001b[0;32m    <a href='file:///c%3A/Users/Arian/.conda/envs/ai-ds-test2/lib/site-packages/transformers/models/distilbert/modeling_distilbert.py?line=484'>485</a>\u001b[0m     output_attentions\u001b[39m=\u001b[39;49moutput_attentions,\n\u001b[0;32m    <a href='file:///c%3A/Users/Arian/.conda/envs/ai-ds-test2/lib/site-packages/transformers/models/distilbert/modeling_distilbert.py?line=485'>486</a>\u001b[0m     output_hidden_states\u001b[39m=\u001b[39;49moutput_hidden_states,\n\u001b[0;32m    <a href='file:///c%3A/Users/Arian/.conda/envs/ai-ds-test2/lib/site-packages/transformers/models/distilbert/modeling_distilbert.py?line=486'>487</a>\u001b[0m     return_dict\u001b[39m=\u001b[39;49mreturn_dict,\n\u001b[0;32m    <a href='file:///c%3A/Users/Arian/.conda/envs/ai-ds-test2/lib/site-packages/transformers/models/distilbert/modeling_distilbert.py?line=487'>488</a>\u001b[0m )\n",
      "File \u001b[1;32m~\\.conda\\envs\\ai-ds-test2\\lib\\site-packages\\torch\\nn\\modules\\module.py:1110\u001b[0m, in \u001b[0;36mModule._call_impl\u001b[1;34m(self, *input, **kwargs)\u001b[0m\n\u001b[0;32m   <a href='file:///c%3A/Users/Arian/.conda/envs/ai-ds-test2/lib/site-packages/torch/nn/modules/module.py?line=1105'>1106</a>\u001b[0m \u001b[39m# If we don't have any hooks, we want to skip the rest of the logic in\u001b[39;00m\n\u001b[0;32m   <a href='file:///c%3A/Users/Arian/.conda/envs/ai-ds-test2/lib/site-packages/torch/nn/modules/module.py?line=1106'>1107</a>\u001b[0m \u001b[39m# this function, and just call forward.\u001b[39;00m\n\u001b[0;32m   <a href='file:///c%3A/Users/Arian/.conda/envs/ai-ds-test2/lib/site-packages/torch/nn/modules/module.py?line=1107'>1108</a>\u001b[0m \u001b[39mif\u001b[39;00m \u001b[39mnot\u001b[39;00m (\u001b[39mself\u001b[39m\u001b[39m.\u001b[39m_backward_hooks \u001b[39mor\u001b[39;00m \u001b[39mself\u001b[39m\u001b[39m.\u001b[39m_forward_hooks \u001b[39mor\u001b[39;00m \u001b[39mself\u001b[39m\u001b[39m.\u001b[39m_forward_pre_hooks \u001b[39mor\u001b[39;00m _global_backward_hooks\n\u001b[0;32m   <a href='file:///c%3A/Users/Arian/.conda/envs/ai-ds-test2/lib/site-packages/torch/nn/modules/module.py?line=1108'>1109</a>\u001b[0m         \u001b[39mor\u001b[39;00m _global_forward_hooks \u001b[39mor\u001b[39;00m _global_forward_pre_hooks):\n\u001b[1;32m-> <a href='file:///c%3A/Users/Arian/.conda/envs/ai-ds-test2/lib/site-packages/torch/nn/modules/module.py?line=1109'>1110</a>\u001b[0m     \u001b[39mreturn\u001b[39;00m forward_call(\u001b[39m*\u001b[39m\u001b[39minput\u001b[39m, \u001b[39m*\u001b[39m\u001b[39m*\u001b[39mkwargs)\n\u001b[0;32m   <a href='file:///c%3A/Users/Arian/.conda/envs/ai-ds-test2/lib/site-packages/torch/nn/modules/module.py?line=1110'>1111</a>\u001b[0m \u001b[39m# Do not call functions when jit is used\u001b[39;00m\n\u001b[0;32m   <a href='file:///c%3A/Users/Arian/.conda/envs/ai-ds-test2/lib/site-packages/torch/nn/modules/module.py?line=1111'>1112</a>\u001b[0m full_backward_hooks, non_full_backward_hooks \u001b[39m=\u001b[39m [], []\n",
      "File \u001b[1;32m~\\.conda\\envs\\ai-ds-test2\\lib\\site-packages\\transformers\\models\\distilbert\\modeling_distilbert.py:306\u001b[0m, in \u001b[0;36mTransformer.forward\u001b[1;34m(self, x, attn_mask, head_mask, output_attentions, output_hidden_states, return_dict)\u001b[0m\n\u001b[0;32m    <a href='file:///c%3A/Users/Arian/.conda/envs/ai-ds-test2/lib/site-packages/transformers/models/distilbert/modeling_distilbert.py?line=302'>303</a>\u001b[0m \u001b[39mif\u001b[39;00m output_hidden_states:\n\u001b[0;32m    <a href='file:///c%3A/Users/Arian/.conda/envs/ai-ds-test2/lib/site-packages/transformers/models/distilbert/modeling_distilbert.py?line=303'>304</a>\u001b[0m     all_hidden_states \u001b[39m=\u001b[39m all_hidden_states \u001b[39m+\u001b[39m (hidden_state,)\n\u001b[1;32m--> <a href='file:///c%3A/Users/Arian/.conda/envs/ai-ds-test2/lib/site-packages/transformers/models/distilbert/modeling_distilbert.py?line=305'>306</a>\u001b[0m layer_outputs \u001b[39m=\u001b[39m layer_module(\n\u001b[0;32m    <a href='file:///c%3A/Users/Arian/.conda/envs/ai-ds-test2/lib/site-packages/transformers/models/distilbert/modeling_distilbert.py?line=306'>307</a>\u001b[0m     x\u001b[39m=\u001b[39;49mhidden_state, attn_mask\u001b[39m=\u001b[39;49mattn_mask, head_mask\u001b[39m=\u001b[39;49mhead_mask[i], output_attentions\u001b[39m=\u001b[39;49moutput_attentions\n\u001b[0;32m    <a href='file:///c%3A/Users/Arian/.conda/envs/ai-ds-test2/lib/site-packages/transformers/models/distilbert/modeling_distilbert.py?line=307'>308</a>\u001b[0m )\n\u001b[0;32m    <a href='file:///c%3A/Users/Arian/.conda/envs/ai-ds-test2/lib/site-packages/transformers/models/distilbert/modeling_distilbert.py?line=308'>309</a>\u001b[0m hidden_state \u001b[39m=\u001b[39m layer_outputs[\u001b[39m-\u001b[39m\u001b[39m1\u001b[39m]\n\u001b[0;32m    <a href='file:///c%3A/Users/Arian/.conda/envs/ai-ds-test2/lib/site-packages/transformers/models/distilbert/modeling_distilbert.py?line=310'>311</a>\u001b[0m \u001b[39mif\u001b[39;00m output_attentions:\n",
      "File \u001b[1;32m~\\.conda\\envs\\ai-ds-test2\\lib\\site-packages\\torch\\nn\\modules\\module.py:1110\u001b[0m, in \u001b[0;36mModule._call_impl\u001b[1;34m(self, *input, **kwargs)\u001b[0m\n\u001b[0;32m   <a href='file:///c%3A/Users/Arian/.conda/envs/ai-ds-test2/lib/site-packages/torch/nn/modules/module.py?line=1105'>1106</a>\u001b[0m \u001b[39m# If we don't have any hooks, we want to skip the rest of the logic in\u001b[39;00m\n\u001b[0;32m   <a href='file:///c%3A/Users/Arian/.conda/envs/ai-ds-test2/lib/site-packages/torch/nn/modules/module.py?line=1106'>1107</a>\u001b[0m \u001b[39m# this function, and just call forward.\u001b[39;00m\n\u001b[0;32m   <a href='file:///c%3A/Users/Arian/.conda/envs/ai-ds-test2/lib/site-packages/torch/nn/modules/module.py?line=1107'>1108</a>\u001b[0m \u001b[39mif\u001b[39;00m \u001b[39mnot\u001b[39;00m (\u001b[39mself\u001b[39m\u001b[39m.\u001b[39m_backward_hooks \u001b[39mor\u001b[39;00m \u001b[39mself\u001b[39m\u001b[39m.\u001b[39m_forward_hooks \u001b[39mor\u001b[39;00m \u001b[39mself\u001b[39m\u001b[39m.\u001b[39m_forward_pre_hooks \u001b[39mor\u001b[39;00m _global_backward_hooks\n\u001b[0;32m   <a href='file:///c%3A/Users/Arian/.conda/envs/ai-ds-test2/lib/site-packages/torch/nn/modules/module.py?line=1108'>1109</a>\u001b[0m         \u001b[39mor\u001b[39;00m _global_forward_hooks \u001b[39mor\u001b[39;00m _global_forward_pre_hooks):\n\u001b[1;32m-> <a href='file:///c%3A/Users/Arian/.conda/envs/ai-ds-test2/lib/site-packages/torch/nn/modules/module.py?line=1109'>1110</a>\u001b[0m     \u001b[39mreturn\u001b[39;00m forward_call(\u001b[39m*\u001b[39m\u001b[39minput\u001b[39m, \u001b[39m*\u001b[39m\u001b[39m*\u001b[39mkwargs)\n\u001b[0;32m   <a href='file:///c%3A/Users/Arian/.conda/envs/ai-ds-test2/lib/site-packages/torch/nn/modules/module.py?line=1110'>1111</a>\u001b[0m \u001b[39m# Do not call functions when jit is used\u001b[39;00m\n\u001b[0;32m   <a href='file:///c%3A/Users/Arian/.conda/envs/ai-ds-test2/lib/site-packages/torch/nn/modules/module.py?line=1111'>1112</a>\u001b[0m full_backward_hooks, non_full_backward_hooks \u001b[39m=\u001b[39m [], []\n",
      "File \u001b[1;32m~\\.conda\\envs\\ai-ds-test2\\lib\\site-packages\\transformers\\models\\distilbert\\modeling_distilbert.py:264\u001b[0m, in \u001b[0;36mTransformerBlock.forward\u001b[1;34m(self, x, attn_mask, head_mask, output_attentions)\u001b[0m\n\u001b[0;32m    <a href='file:///c%3A/Users/Arian/.conda/envs/ai-ds-test2/lib/site-packages/transformers/models/distilbert/modeling_distilbert.py?line=260'>261</a>\u001b[0m sa_output \u001b[39m=\u001b[39m \u001b[39mself\u001b[39m\u001b[39m.\u001b[39msa_layer_norm(sa_output \u001b[39m+\u001b[39m x)  \u001b[39m# (bs, seq_length, dim)\u001b[39;00m\n\u001b[0;32m    <a href='file:///c%3A/Users/Arian/.conda/envs/ai-ds-test2/lib/site-packages/transformers/models/distilbert/modeling_distilbert.py?line=262'>263</a>\u001b[0m \u001b[39m# Feed Forward Network\u001b[39;00m\n\u001b[1;32m--> <a href='file:///c%3A/Users/Arian/.conda/envs/ai-ds-test2/lib/site-packages/transformers/models/distilbert/modeling_distilbert.py?line=263'>264</a>\u001b[0m ffn_output \u001b[39m=\u001b[39m \u001b[39mself\u001b[39;49m\u001b[39m.\u001b[39;49mffn(sa_output)  \u001b[39m# (bs, seq_length, dim)\u001b[39;00m\n\u001b[0;32m    <a href='file:///c%3A/Users/Arian/.conda/envs/ai-ds-test2/lib/site-packages/transformers/models/distilbert/modeling_distilbert.py?line=264'>265</a>\u001b[0m ffn_output \u001b[39m=\u001b[39m \u001b[39mself\u001b[39m\u001b[39m.\u001b[39moutput_layer_norm(ffn_output \u001b[39m+\u001b[39m sa_output)  \u001b[39m# (bs, seq_length, dim)\u001b[39;00m\n\u001b[0;32m    <a href='file:///c%3A/Users/Arian/.conda/envs/ai-ds-test2/lib/site-packages/transformers/models/distilbert/modeling_distilbert.py?line=266'>267</a>\u001b[0m output \u001b[39m=\u001b[39m (ffn_output,)\n",
      "File \u001b[1;32m~\\.conda\\envs\\ai-ds-test2\\lib\\site-packages\\torch\\nn\\modules\\module.py:1110\u001b[0m, in \u001b[0;36mModule._call_impl\u001b[1;34m(self, *input, **kwargs)\u001b[0m\n\u001b[0;32m   <a href='file:///c%3A/Users/Arian/.conda/envs/ai-ds-test2/lib/site-packages/torch/nn/modules/module.py?line=1105'>1106</a>\u001b[0m \u001b[39m# If we don't have any hooks, we want to skip the rest of the logic in\u001b[39;00m\n\u001b[0;32m   <a href='file:///c%3A/Users/Arian/.conda/envs/ai-ds-test2/lib/site-packages/torch/nn/modules/module.py?line=1106'>1107</a>\u001b[0m \u001b[39m# this function, and just call forward.\u001b[39;00m\n\u001b[0;32m   <a href='file:///c%3A/Users/Arian/.conda/envs/ai-ds-test2/lib/site-packages/torch/nn/modules/module.py?line=1107'>1108</a>\u001b[0m \u001b[39mif\u001b[39;00m \u001b[39mnot\u001b[39;00m (\u001b[39mself\u001b[39m\u001b[39m.\u001b[39m_backward_hooks \u001b[39mor\u001b[39;00m \u001b[39mself\u001b[39m\u001b[39m.\u001b[39m_forward_hooks \u001b[39mor\u001b[39;00m \u001b[39mself\u001b[39m\u001b[39m.\u001b[39m_forward_pre_hooks \u001b[39mor\u001b[39;00m _global_backward_hooks\n\u001b[0;32m   <a href='file:///c%3A/Users/Arian/.conda/envs/ai-ds-test2/lib/site-packages/torch/nn/modules/module.py?line=1108'>1109</a>\u001b[0m         \u001b[39mor\u001b[39;00m _global_forward_hooks \u001b[39mor\u001b[39;00m _global_forward_pre_hooks):\n\u001b[1;32m-> <a href='file:///c%3A/Users/Arian/.conda/envs/ai-ds-test2/lib/site-packages/torch/nn/modules/module.py?line=1109'>1110</a>\u001b[0m     \u001b[39mreturn\u001b[39;00m forward_call(\u001b[39m*\u001b[39m\u001b[39minput\u001b[39m, \u001b[39m*\u001b[39m\u001b[39m*\u001b[39mkwargs)\n\u001b[0;32m   <a href='file:///c%3A/Users/Arian/.conda/envs/ai-ds-test2/lib/site-packages/torch/nn/modules/module.py?line=1110'>1111</a>\u001b[0m \u001b[39m# Do not call functions when jit is used\u001b[39;00m\n\u001b[0;32m   <a href='file:///c%3A/Users/Arian/.conda/envs/ai-ds-test2/lib/site-packages/torch/nn/modules/module.py?line=1111'>1112</a>\u001b[0m full_backward_hooks, non_full_backward_hooks \u001b[39m=\u001b[39m [], []\n",
      "File \u001b[1;32m~\\.conda\\envs\\ai-ds-test2\\lib\\site-packages\\transformers\\models\\distilbert\\modeling_distilbert.py:215\u001b[0m, in \u001b[0;36mFFN.forward\u001b[1;34m(self, input)\u001b[0m\n\u001b[0;32m    <a href='file:///c%3A/Users/Arian/.conda/envs/ai-ds-test2/lib/site-packages/transformers/models/distilbert/modeling_distilbert.py?line=213'>214</a>\u001b[0m \u001b[39mdef\u001b[39;00m \u001b[39mforward\u001b[39m(\u001b[39mself\u001b[39m, \u001b[39minput\u001b[39m):\n\u001b[1;32m--> <a href='file:///c%3A/Users/Arian/.conda/envs/ai-ds-test2/lib/site-packages/transformers/models/distilbert/modeling_distilbert.py?line=214'>215</a>\u001b[0m     \u001b[39mreturn\u001b[39;00m apply_chunking_to_forward(\u001b[39mself\u001b[39;49m\u001b[39m.\u001b[39;49mff_chunk, \u001b[39mself\u001b[39;49m\u001b[39m.\u001b[39;49mchunk_size_feed_forward, \u001b[39mself\u001b[39;49m\u001b[39m.\u001b[39;49mseq_len_dim, \u001b[39minput\u001b[39;49m)\n",
      "File \u001b[1;32m~\\.conda\\envs\\ai-ds-test2\\lib\\site-packages\\transformers\\modeling_utils.py:2001\u001b[0m, in \u001b[0;36mapply_chunking_to_forward\u001b[1;34m(forward_fn, chunk_size, chunk_dim, *input_tensors)\u001b[0m\n\u001b[0;32m   <a href='file:///c%3A/Users/Arian/.conda/envs/ai-ds-test2/lib/site-packages/transformers/modeling_utils.py?line=1997'>1998</a>\u001b[0m     \u001b[39m# concatenate output at same dimension\u001b[39;00m\n\u001b[0;32m   <a href='file:///c%3A/Users/Arian/.conda/envs/ai-ds-test2/lib/site-packages/transformers/modeling_utils.py?line=1998'>1999</a>\u001b[0m     \u001b[39mreturn\u001b[39;00m torch\u001b[39m.\u001b[39mcat(output_chunks, dim\u001b[39m=\u001b[39mchunk_dim)\n\u001b[1;32m-> <a href='file:///c%3A/Users/Arian/.conda/envs/ai-ds-test2/lib/site-packages/transformers/modeling_utils.py?line=2000'>2001</a>\u001b[0m \u001b[39mreturn\u001b[39;00m forward_fn(\u001b[39m*\u001b[39;49minput_tensors)\n",
      "File \u001b[1;32m~\\.conda\\envs\\ai-ds-test2\\lib\\site-packages\\transformers\\models\\distilbert\\modeling_distilbert.py:218\u001b[0m, in \u001b[0;36mFFN.ff_chunk\u001b[1;34m(self, input)\u001b[0m\n\u001b[0;32m    <a href='file:///c%3A/Users/Arian/.conda/envs/ai-ds-test2/lib/site-packages/transformers/models/distilbert/modeling_distilbert.py?line=216'>217</a>\u001b[0m \u001b[39mdef\u001b[39;00m \u001b[39mff_chunk\u001b[39m(\u001b[39mself\u001b[39m, \u001b[39minput\u001b[39m):\n\u001b[1;32m--> <a href='file:///c%3A/Users/Arian/.conda/envs/ai-ds-test2/lib/site-packages/transformers/models/distilbert/modeling_distilbert.py?line=217'>218</a>\u001b[0m     x \u001b[39m=\u001b[39m \u001b[39mself\u001b[39;49m\u001b[39m.\u001b[39;49mlin1(\u001b[39minput\u001b[39;49m)\n\u001b[0;32m    <a href='file:///c%3A/Users/Arian/.conda/envs/ai-ds-test2/lib/site-packages/transformers/models/distilbert/modeling_distilbert.py?line=218'>219</a>\u001b[0m     x \u001b[39m=\u001b[39m \u001b[39mself\u001b[39m\u001b[39m.\u001b[39mactivation(x)\n\u001b[0;32m    <a href='file:///c%3A/Users/Arian/.conda/envs/ai-ds-test2/lib/site-packages/transformers/models/distilbert/modeling_distilbert.py?line=219'>220</a>\u001b[0m     x \u001b[39m=\u001b[39m \u001b[39mself\u001b[39m\u001b[39m.\u001b[39mlin2(x)\n",
      "File \u001b[1;32m~\\.conda\\envs\\ai-ds-test2\\lib\\site-packages\\torch\\nn\\modules\\module.py:1110\u001b[0m, in \u001b[0;36mModule._call_impl\u001b[1;34m(self, *input, **kwargs)\u001b[0m\n\u001b[0;32m   <a href='file:///c%3A/Users/Arian/.conda/envs/ai-ds-test2/lib/site-packages/torch/nn/modules/module.py?line=1105'>1106</a>\u001b[0m \u001b[39m# If we don't have any hooks, we want to skip the rest of the logic in\u001b[39;00m\n\u001b[0;32m   <a href='file:///c%3A/Users/Arian/.conda/envs/ai-ds-test2/lib/site-packages/torch/nn/modules/module.py?line=1106'>1107</a>\u001b[0m \u001b[39m# this function, and just call forward.\u001b[39;00m\n\u001b[0;32m   <a href='file:///c%3A/Users/Arian/.conda/envs/ai-ds-test2/lib/site-packages/torch/nn/modules/module.py?line=1107'>1108</a>\u001b[0m \u001b[39mif\u001b[39;00m \u001b[39mnot\u001b[39;00m (\u001b[39mself\u001b[39m\u001b[39m.\u001b[39m_backward_hooks \u001b[39mor\u001b[39;00m \u001b[39mself\u001b[39m\u001b[39m.\u001b[39m_forward_hooks \u001b[39mor\u001b[39;00m \u001b[39mself\u001b[39m\u001b[39m.\u001b[39m_forward_pre_hooks \u001b[39mor\u001b[39;00m _global_backward_hooks\n\u001b[0;32m   <a href='file:///c%3A/Users/Arian/.conda/envs/ai-ds-test2/lib/site-packages/torch/nn/modules/module.py?line=1108'>1109</a>\u001b[0m         \u001b[39mor\u001b[39;00m _global_forward_hooks \u001b[39mor\u001b[39;00m _global_forward_pre_hooks):\n\u001b[1;32m-> <a href='file:///c%3A/Users/Arian/.conda/envs/ai-ds-test2/lib/site-packages/torch/nn/modules/module.py?line=1109'>1110</a>\u001b[0m     \u001b[39mreturn\u001b[39;00m forward_call(\u001b[39m*\u001b[39m\u001b[39minput\u001b[39m, \u001b[39m*\u001b[39m\u001b[39m*\u001b[39mkwargs)\n\u001b[0;32m   <a href='file:///c%3A/Users/Arian/.conda/envs/ai-ds-test2/lib/site-packages/torch/nn/modules/module.py?line=1110'>1111</a>\u001b[0m \u001b[39m# Do not call functions when jit is used\u001b[39;00m\n\u001b[0;32m   <a href='file:///c%3A/Users/Arian/.conda/envs/ai-ds-test2/lib/site-packages/torch/nn/modules/module.py?line=1111'>1112</a>\u001b[0m full_backward_hooks, non_full_backward_hooks \u001b[39m=\u001b[39m [], []\n",
      "File \u001b[1;32m~\\.conda\\envs\\ai-ds-test2\\lib\\site-packages\\torch\\nn\\modules\\linear.py:103\u001b[0m, in \u001b[0;36mLinear.forward\u001b[1;34m(self, input)\u001b[0m\n\u001b[0;32m    <a href='file:///c%3A/Users/Arian/.conda/envs/ai-ds-test2/lib/site-packages/torch/nn/modules/linear.py?line=101'>102</a>\u001b[0m \u001b[39mdef\u001b[39;00m \u001b[39mforward\u001b[39m(\u001b[39mself\u001b[39m, \u001b[39minput\u001b[39m: Tensor) \u001b[39m-\u001b[39m\u001b[39m>\u001b[39m Tensor:\n\u001b[1;32m--> <a href='file:///c%3A/Users/Arian/.conda/envs/ai-ds-test2/lib/site-packages/torch/nn/modules/linear.py?line=102'>103</a>\u001b[0m     \u001b[39mreturn\u001b[39;00m F\u001b[39m.\u001b[39;49mlinear(\u001b[39minput\u001b[39;49m, \u001b[39mself\u001b[39;49m\u001b[39m.\u001b[39;49mweight, \u001b[39mself\u001b[39;49m\u001b[39m.\u001b[39;49mbias)\n",
      "\u001b[1;31mKeyboardInterrupt\u001b[0m: "
     ]
    }
   ],
   "source": [
    "optim = AdamW(model.parameters(), lr=5e-5)\n",
    "criterion = torch.nn.CrossEntropyLoss()\n",
    "\n",
    "\n",
    "num_train_epochs = 20\n",
    "for epoch in range(num_train_epochs):\n",
    "   for batch in train_loader:\n",
    "\n",
    "      input_ids = batch['input_ids'].to(device)\n",
    "      attention_mask = batch['attention_mask'].to(device)\n",
    "      \n",
    "      labels = batch['labels'].to(device)\n",
    "      \n",
    "      outputs = model(input_ids, attention_mask=attention_mask, labels=labels)\n",
    "      \n",
    "      loss = outputs[0]\n",
    "      optim.zero_grad()\n",
    "\n",
    "      loss.backward()\n",
    "      optim.step()\n"
   ]
  },
  {
   "cell_type": "code",
   "execution_count": null,
   "metadata": {},
   "outputs": [],
   "source": [
    "# import pickle\n",
    "# filename = './saved_models/task1_model.pkl'\n",
    "# outfile = open(filename, 'wb')\n",
    "# pickle.dump(model, outfile)\n",
    "# outfile.close()"
   ]
  },
  {
   "cell_type": "code",
   "execution_count": 8,
   "metadata": {},
   "outputs": [],
   "source": [
    "import torch\n",
    "import pickle\n",
    "from transformers import DistilBertTokenizerFast\n",
    "import torch.nn.functional as F\n",
    "\n",
    "device = torch.device(\n",
    "    'cuda') if torch.cuda.is_available() else torch.device('cpu')\n",
    "model.to(device)\n",
    "\n",
    "pickle_in = open('./saved_models/task1_model.pkl', 'rb')\n",
    "model = pickle.load(pickle_in)\n",
    "model = model.to(device)\n",
    "\n",
    "model_name = \"distilbert-base-uncased\"\n",
    "tokenizer = DistilBertTokenizerFast.from_pretrained(model_name)\n"
   ]
  },
  {
   "cell_type": "code",
   "execution_count": 9,
   "metadata": {},
   "outputs": [
    {
     "name": "stdout",
     "output_type": "stream",
     "text": [
      "HOF\n"
     ]
    }
   ],
   "source": [
    "sample_test = ['All asian people are criminals'.lower()]\n",
    "sample_test = tokenizer(sample_test, padding=True, truncation=True,\n",
    "                        max_length=512, return_tensors='pt').to(device)\n",
    "\n",
    "with torch.no_grad():\n",
    "   outputs = model(**sample_test)\n",
    "   prediction_batch = F.softmax(outputs.logits, dim=1)\n",
    "   prediction_batch_label_id = torch.argmax(prediction_batch, dim=1)\n",
    "   sample_test_prediction_label = model.config.id2label[int(prediction_batch_label_id[0])]\n",
    "   print(sample_test_prediction_label)\n"
   ]
  },
  {
   "cell_type": "code",
   "execution_count": 13,
   "metadata": {},
   "outputs": [
    {
     "name": "stdout",
     "output_type": "stream",
     "text": [
      "Prediction :HOF | Actual: HOF |             Prediction Accuracy: \n",
      "Prediction :HOF | Actual: HOF |             Prediction Accuracy: \n",
      "Prediction :HOF | Actual: HOF |             Prediction Accuracy: \n",
      "Prediction :NOT | Actual: NOT |             Prediction Accuracy: \n",
      "Prediction :HOF | Actual: HOF |             Prediction Accuracy: \n",
      "Prediction :NOT | Actual: NOT |             Prediction Accuracy: \n",
      "Prediction :HOF | Actual: HOF |             Prediction Accuracy: \n",
      "Prediction :HOF | Actual: NOT |             Prediction Accuracy: \n",
      "Accuracy: 90.8355795148248\n"
     ]
    }
   ],
   "source": [
    "import torch\n",
    "import torch.nn.functional as F\n",
    "\n",
    "with torch.no_grad():\n",
    "   n_correct = 0\n",
    "   n_samples = 0\n",
    "\n",
    "   for item in test_loader:\n",
    "      \n",
    "      test_batch_text = item['input_ids']\n",
    "      test_batch_attention_mask = item['attention_mask']\n",
    "      test_batch_label_id = item['labels']\n",
    "      test_batch_text = test_batch_text.to(device)\n",
    "      test_batch_attention_mask = test_batch_attention_mask.to(device)\n",
    "      test_batch_label_id = test_batch_label_id.to(device)\n",
    "\n",
    "      outputs = model(test_batch_text)\n",
    "      prediction_batch = F.softmax(outputs.logits, dim=1)\n",
    "      prediction_batch_confidence = torch.max(prediction_batch,dim=1)\n",
    "      # print(prediction_batch)\n",
    "      # print('---------')\n",
    "      # print(prediction_batch_confidence)\n",
    "      # print('========')\n",
    "      prediction_batch_label_id = torch.argmax(prediction_batch, dim=1)\n",
    "      # prediction_labels = [model.config.id2label[label_id] for label_id in labels.tolist()]\n",
    "      \n",
    "      n_samples += len(test_batch_text)\n",
    "      n_correct += (prediction_batch_label_id == test_batch_label_id).sum().item()\n",
    "\n",
    "      for i in range(len(test_batch_text)):\n",
    "         if n_samples %300==0:\n",
    "            sample_test_text = tokenizer.decode(test_batch_text[i], skip_special_tokens=True)\n",
    "            sample_test_label = model.config.id2label[int(\n",
    "                test_batch_label_id[i])]\n",
    "            sample_prediction_label = model.config.id2label[int(prediction_batch_label_id[i])]\n",
    "\n",
    "            print(f'Prediction :{sample_prediction_label} | Actual: {sample_test_label} | \\\n",
    "            Prediction Accuracy: ')\n",
    "\n",
    "   acc = 100.0 * n_correct/n_samples\n",
    "   print(f'Accuracy: {acc}')\n",
    "\n"
   ]
  },
  {
   "cell_type": "code",
   "execution_count": null,
   "metadata": {},
   "outputs": [],
   "source": []
  }
 ],
 "metadata": {
  "interpreter": {
   "hash": "cce0fa9ca151fc59ef80132faf12b1d36d7815ac2454a49ae42a11694118af52"
  },
  "kernelspec": {
   "display_name": "Python 3.9.12 ('ai-ds-test2')",
   "language": "python",
   "name": "python3"
  },
  "language_info": {
   "codemirror_mode": {
    "name": "ipython",
    "version": 3
   },
   "file_extension": ".py",
   "mimetype": "text/x-python",
   "name": "python",
   "nbconvert_exporter": "python",
   "pygments_lexer": "ipython3",
   "version": "3.9.12"
  },
  "orig_nbformat": 4
 },
 "nbformat": 4,
 "nbformat_minor": 2
}
