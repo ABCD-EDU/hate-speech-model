{
 "cells": [
  {
   "cell_type": "code",
   "execution_count": 2,
   "metadata": {},
   "outputs": [],
   "source": [
    "# Import modules\n",
    "import pandas as pd\n",
    "import json\n",
    "from IPython.display import display, HTML\n",
    "pd.set_option('display.max_colwidth', None)\n",
    "pd.set_option('display.max_rows', 500)"
   ]
  },
  {
   "cell_type": "code",
   "execution_count": 3,
   "metadata": {},
   "outputs": [],
   "source": [
    "\n",
    "subtask1 = pd.read_csv('../res/raw/subtask1.csv')\n",
    "subtask2 = pd.read_csv('../res/raw/subtask2.csv')\n",
    "subtask2_n_3 = json.load(open('../res/raw/subtask2_n_3.json'))\n",
    "subtask3 = json.load(open('../res/raw/subtask3.json'))"
   ]
  },
  {
   "cell_type": "markdown",
   "metadata": {},
   "source": [
    "### Collect data from subtask1"
   ]
  },
  {
   "cell_type": "code",
   "execution_count": 1,
   "metadata": {},
   "outputs": [
    {
     "ename": "NameError",
     "evalue": "name 'subtask1' is not defined",
     "output_type": "error",
     "traceback": [
      "\u001b[1;31m---------------------------------------------------------------------------\u001b[0m",
      "\u001b[1;31mNameError\u001b[0m                                 Traceback (most recent call last)",
      "\u001b[1;32me:\\BSCS 3- 2ND SEM\\9334-CS321-ARTIFICIAL_INTELLIGENCE\\FinalProject\\CS321-hate-speech-nlp\\helpers\\preprocessor.ipynb Cell 4'\u001b[0m in \u001b[0;36m<cell line: 14>\u001b[1;34m()\u001b[0m\n\u001b[0;32m      <a href='vscode-notebook-cell:/e%3A/BSCS%203-%202ND%20SEM/9334-CS321-ARTIFICIAL_INTELLIGENCE/FinalProject/CS321-hate-speech-nlp/helpers/preprocessor.ipynb#ch0000003?line=0'>1</a>\u001b[0m \u001b[39m# subtask1.loc[(subtask1['severe_toxic']) == 1 & (subtask1['threat'] == 0)]\u001b[39;00m\n\u001b[0;32m      <a href='vscode-notebook-cell:/e%3A/BSCS%203-%202ND%20SEM/9334-CS321-ARTIFICIAL_INTELLIGENCE/FinalProject/CS321-hate-speech-nlp/helpers/preprocessor.ipynb#ch0000003?line=1'>2</a>\u001b[0m \u001b[39m# subtask1.loc[(subtask1['severe_toxic']) == 1 & (subtask1['threat'] == 1)]\u001b[39;00m\n\u001b[0;32m      <a href='vscode-notebook-cell:/e%3A/BSCS%203-%202ND%20SEM/9334-CS321-ARTIFICIAL_INTELLIGENCE/FinalProject/CS321-hate-speech-nlp/helpers/preprocessor.ipynb#ch0000003?line=2'>3</a>\u001b[0m \u001b[39m'''\u001b[39;00m\n\u001b[0;32m      <a href='vscode-notebook-cell:/e%3A/BSCS%203-%202ND%20SEM/9334-CS321-ARTIFICIAL_INTELLIGENCE/FinalProject/CS321-hate-speech-nlp/helpers/preprocessor.ipynb#ch0000003?line=3'>4</a>\u001b[0m \u001b[39m Get all hate speech rows\u001b[39;00m\n\u001b[0;32m      <a href='vscode-notebook-cell:/e%3A/BSCS%203-%202ND%20SEM/9334-CS321-ARTIFICIAL_INTELLIGENCE/FinalProject/CS321-hate-speech-nlp/helpers/preprocessor.ipynb#ch0000003?line=4'>5</a>\u001b[0m \u001b[39m QUESTION: How did you come up with such conditions?\u001b[39;00m\n\u001b[1;32m   (...)\u001b[0m\n\u001b[0;32m     <a href='vscode-notebook-cell:/e%3A/BSCS%203-%202ND%20SEM/9334-CS321-ARTIFICIAL_INTELLIGENCE/FinalProject/CS321-hate-speech-nlp/helpers/preprocessor.ipynb#ch0000003?line=11'>12</a>\u001b[0m \u001b[39m any category column that has a value of 1 as well. \u001b[39;00m\n\u001b[0;32m     <a href='vscode-notebook-cell:/e%3A/BSCS%203-%202ND%20SEM/9334-CS321-ARTIFICIAL_INTELLIGENCE/FinalProject/CS321-hate-speech-nlp/helpers/preprocessor.ipynb#ch0000003?line=12'>13</a>\u001b[0m \u001b[39m'''\u001b[39;00m\n\u001b[1;32m---> <a href='vscode-notebook-cell:/e%3A/BSCS%203-%202ND%20SEM/9334-CS321-ARTIFICIAL_INTELLIGENCE/FinalProject/CS321-hate-speech-nlp/helpers/preprocessor.ipynb#ch0000003?line=13'>14</a>\u001b[0m subtask1_df \u001b[39m=\u001b[39m (subtask1\u001b[39m.\u001b[39mloc[(subtask1[\u001b[39m'\u001b[39m\u001b[39mtoxic\u001b[39m\u001b[39m'\u001b[39m] \u001b[39m==\u001b[39m \u001b[39m1\u001b[39m)  \u001b[39m&\u001b[39m\n\u001b[0;32m     <a href='vscode-notebook-cell:/e%3A/BSCS%203-%202ND%20SEM/9334-CS321-ARTIFICIAL_INTELLIGENCE/FinalProject/CS321-hate-speech-nlp/helpers/preprocessor.ipynb#ch0000003?line=14'>15</a>\u001b[0m                    ((subtask1[\u001b[39m'\u001b[39m\u001b[39msevere_toxic\u001b[39m\u001b[39m'\u001b[39m] \u001b[39m==\u001b[39m \u001b[39m1\u001b[39m) \u001b[39m|\u001b[39m\n\u001b[0;32m     <a href='vscode-notebook-cell:/e%3A/BSCS%203-%202ND%20SEM/9334-CS321-ARTIFICIAL_INTELLIGENCE/FinalProject/CS321-hate-speech-nlp/helpers/preprocessor.ipynb#ch0000003?line=15'>16</a>\u001b[0m                    (subtask1[\u001b[39m'\u001b[39m\u001b[39mobscene\u001b[39m\u001b[39m'\u001b[39m] \u001b[39m==\u001b[39m \u001b[39m1\u001b[39m) \u001b[39m|\u001b[39m\n\u001b[0;32m     <a href='vscode-notebook-cell:/e%3A/BSCS%203-%202ND%20SEM/9334-CS321-ARTIFICIAL_INTELLIGENCE/FinalProject/CS321-hate-speech-nlp/helpers/preprocessor.ipynb#ch0000003?line=16'>17</a>\u001b[0m                    (subtask1[\u001b[39m'\u001b[39m\u001b[39mthreat\u001b[39m\u001b[39m'\u001b[39m] \u001b[39m==\u001b[39m \u001b[39m1\u001b[39m) \u001b[39m|\u001b[39m\n\u001b[0;32m     <a href='vscode-notebook-cell:/e%3A/BSCS%203-%202ND%20SEM/9334-CS321-ARTIFICIAL_INTELLIGENCE/FinalProject/CS321-hate-speech-nlp/helpers/preprocessor.ipynb#ch0000003?line=17'>18</a>\u001b[0m                    (subtask1[\u001b[39m'\u001b[39m\u001b[39minsult\u001b[39m\u001b[39m'\u001b[39m] \u001b[39m==\u001b[39m \u001b[39m1\u001b[39m) \u001b[39m|\u001b[39m\n\u001b[0;32m     <a href='vscode-notebook-cell:/e%3A/BSCS%203-%202ND%20SEM/9334-CS321-ARTIFICIAL_INTELLIGENCE/FinalProject/CS321-hate-speech-nlp/helpers/preprocessor.ipynb#ch0000003?line=18'>19</a>\u001b[0m                    (subtask1[\u001b[39m'\u001b[39m\u001b[39midentity_hate\u001b[39m\u001b[39m'\u001b[39m] \u001b[39m==\u001b[39m \u001b[39m1\u001b[39m))])\n",
      "\u001b[1;31mNameError\u001b[0m: name 'subtask1' is not defined"
     ]
    }
   ],
   "source": [
    "# subtask1.loc[(subtask1['severe_toxic']) == 1 & (subtask1['threat'] == 0)]\n",
    "# subtask1.loc[(subtask1['severe_toxic']) == 1 & (subtask1['threat'] == 1)]\n",
    "'''\n",
    " Get all hate speech rows\n",
    " QUESTION: How did you come up with such conditions?\n",
    " ANSWER: All posts that have a toxic value of 1 are considered \n",
    " somewhat hateful however they are not yet fully considered as hate speech.\n",
    " Note: Category Columns (toxic, severe_toxic, obscene, etc.)\n",
    " Given a row, if and when some of it's other category columns have a value of 1\n",
    " then it is highly likely that the post is a hate speech. This conclusion\n",
    " came from manually looking at random rows that has a toxic value of 1 with\n",
    " any category column that has a value of 1 as well. \n",
    "'''\n",
    "subtask1_df = (subtask1.loc[(subtask1['toxic'] == 1)  &\n",
    "                   ((subtask1['severe_toxic'] == 1) |\n",
    "                   (subtask1['obscene'] == 1) |\n",
    "                   (subtask1['threat'] == 1) |\n",
    "                   (subtask1['insult'] == 1) |\n",
    "                   (subtask1['identity_hate'] == 1))])\n",
    "       \n",
    "\n",
    "\n",
    "# print(subtask1_df.shape)\n",
    "# test_subtask1_df = subtask1_df.loc[subtask1_df['identity_hate']==1]\n",
    "# print(test_subtask1_df.shape)\n",
    "# display(test_subtask1_df['comment_text'].apply(lambda x: ''.join(x.strip().split('\\n'))))\n"
   ]
  },
  {
   "cell_type": "markdown",
   "metadata": {},
   "source": [
    "### Collect data from subtask2"
   ]
  },
  {
   "cell_type": "markdown",
   "metadata": {},
   "source": [
    "### Collect data from subtask2_n_3"
   ]
  },
  {
   "cell_type": "markdown",
   "metadata": {},
   "source": [
    "### Collect data from subtask3"
   ]
  }
 ],
 "metadata": {
  "interpreter": {
   "hash": "cce0fa9ca151fc59ef80132faf12b1d36d7815ac2454a49ae42a11694118af52"
  },
  "kernelspec": {
   "display_name": "Python 3.9.12 ('ai-ds-test2')",
   "language": "python",
   "name": "python3"
  },
  "language_info": {
   "codemirror_mode": {
    "name": "ipython",
    "version": 3
   },
   "file_extension": ".py",
   "mimetype": "text/x-python",
   "name": "python",
   "nbconvert_exporter": "python",
   "pygments_lexer": "ipython3",
   "version": "3.9.12"
  },
  "orig_nbformat": 4
 },
 "nbformat": 4,
 "nbformat_minor": 2
}
