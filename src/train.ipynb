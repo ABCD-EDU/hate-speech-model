{
 "cells": [
  {
   "cell_type": "code",
   "execution_count": 1,
   "metadata": {},
   "outputs": [
    {
     "name": "stderr",
     "output_type": "stream",
     "text": [
      "C:\\Users\\Arian\\.conda\\envs\\ai-ds-test4\\lib\\site-packages\\tqdm\\auto.py:22: TqdmWarning: IProgress not found. Please update jupyter and ipywidgets. See https://ipywidgets.readthedocs.io/en/stable/user_install.html\n",
      "  from .autonotebook import tqdm as notebook_tqdm\n"
     ]
    }
   ],
   "source": [
    "import pandas as pd\n",
    "from sklearn.model_selection import train_test_split\n",
    "import json\n",
    "import os\n",
    "\n",
    "import torch\n",
    "import pytorch_lightning as pl\n",
    "from pytorch_lightning.loggers import TensorBoardLogger\n",
    "from pytorch_lightning.callbacks import ModelCheckpoint\n",
    "from transformers import AutoTokenizer\n",
    "\n",
    "from classes.TwitterDataModule import TwitterDataModule\n",
    "from classes.Heirarchichal import HeirarchichalNN\n",
    "from classes.MultiTask import MultiTaskNN\n",
    "from classes.SingleTask import SingleTaskNN\n"
   ]
  },
  {
   "cell_type": "code",
   "execution_count": 2,
   "metadata": {},
   "outputs": [
    {
     "name": "stdout",
     "output_type": "stream",
     "text": [
      "-------READING TRAINING FILES-------\n",
      "-------READING TRAINING FILES COMPLETED-------\n"
     ]
    }
   ],
   "source": [
    "with open('./config/config.json', 'r') as f:\n",
    "    config = json.load(f)\n",
    "\n",
    "print('-------READING TRAINING FILES-------')\n",
    "\n",
    "train_df = pd.read_csv('../res/preprocessed/train_final.csv')\n",
    "val_df = pd.read_csv('../res/preprocessed/val_final.csv')\n",
    "test_df = pd.read_csv('../res/preprocessed/test_final.csv')\n",
    "print('-------READING TRAINING FILES COMPLETED-------')\n",
    "train_df = train_df.dropna()\n",
    "val_df = val_df.dropna()\n",
    "test_df = test_df.dropna()\n",
    "\n",
    "LABEL_COLUMNS = list(train_df.columns)\n",
    "LABEL_COLUMNS.remove('text')\n",
    "\n",
    "TASK1_LABELS = LABEL_COLUMNS[:3]\n",
    "TASK2_LABELS = LABEL_COLUMNS[3:4]\n",
    "TASK3_LABELS = LABEL_COLUMNS[4:]\n"
   ]
  },
  {
   "cell_type": "code",
   "execution_count": 3,
   "metadata": {},
   "outputs": [
    {
     "name": "stdout",
     "output_type": "stream",
     "text": [
      "-------INITIALIZING TOKENIZER-------\n",
      "-------CREATING DATA MODULE-------\n",
      "-------DATA MODULE CREATED-------\n"
     ]
    }
   ],
   "source": [
    "\n",
    "\n",
    "print('-------INITIALIZING TOKENIZER-------')\n",
    "tokenizer = AutoTokenizer.from_pretrained(config['bert_model_name'])\n",
    "\n",
    "print('-------CREATING DATA MODULE-------')\n",
    "data_module = TwitterDataModule(\n",
    "    train_df,\n",
    "    val_df,\n",
    "    test_df,\n",
    "    tokenizer,\n",
    "    batch_size=config[\"batch_size\"],\n",
    "    max_token_len=config[\"max_token_len\"]\n",
    ")\n",
    "data_module.setup()\n",
    "print('-------DATA MODULE CREATED-------')\n"
   ]
  },
  {
   "cell_type": "code",
   "execution_count": 4,
   "metadata": {},
   "outputs": [],
   "source": [
    "steps_per_epoch = len(train_df) // config[\"batch_size\"]\n",
    "total_training_steps = steps_per_epoch * config[\"n_epochs\"]\n",
    "warmup_steps = total_training_steps // 5\n",
    "\n",
    "checkpoint_callback = ModelCheckpoint(\n",
    "    dirpath='./checkpoints',\n",
    "    filename='{epoch}-{val_loss: .2f}',\n",
    "    save_top_k=2,\n",
    "    verbose=True,\n",
    "    monitor=\"val_loss\",\n",
    "    mode=\"min\",\n",
    "    every_n_train_steps=100,\n",
    ")\n"
   ]
  },
  {
   "cell_type": "markdown",
   "metadata": {},
   "source": [
    "### TRAIN HIERARCHICHAL"
   ]
  },
  {
   "cell_type": "code",
   "execution_count": 5,
   "metadata": {},
   "outputs": [
    {
     "name": "stdout",
     "output_type": "stream",
     "text": [
      "-------INITIALIZING TWITTER NEURAL NET-------\n"
     ]
    },
    {
     "name": "stderr",
     "output_type": "stream",
     "text": [
      "Some weights of the model checkpoint at bert-base-uncased were not used when initializing BertModel: ['cls.predictions.decoder.weight', 'cls.predictions.transform.dense.weight', 'cls.seq_relationship.bias', 'cls.predictions.transform.dense.bias', 'cls.seq_relationship.weight', 'cls.predictions.transform.LayerNorm.bias', 'cls.predictions.transform.LayerNorm.weight', 'cls.predictions.bias']\n",
      "- This IS expected if you are initializing BertModel from the checkpoint of a model trained on another task or with another architecture (e.g. initializing a BertForSequenceClassification model from a BertForPreTraining model).\n",
      "- This IS NOT expected if you are initializing BertModel from the checkpoint of a model that you expect to be exactly identical (initializing a BertForSequenceClassification model from a BertForSequenceClassification model).\n",
      "C:\\Users\\Arian\\.conda\\envs\\ai-ds-test4\\lib\\site-packages\\pytorch_lightning\\trainer\\connectors\\callback_connector.py:151: LightningDeprecationWarning: Setting `Trainer(checkpoint_callback=<pytorch_lightning.callbacks.model_checkpoint.ModelCheckpoint object at 0x0000015C793CE070>)` is deprecated in v1.5 and will be removed in v1.7. Please consider using `Trainer(enable_checkpointing=<pytorch_lightning.callbacks.model_checkpoint.ModelCheckpoint object at 0x0000015C793CE070>)`.\n",
      "  rank_zero_deprecation(\n",
      "C:\\Users\\Arian\\.conda\\envs\\ai-ds-test4\\lib\\site-packages\\pytorch_lightning\\trainer\\connectors\\callback_connector.py:96: LightningDeprecationWarning: Setting `Trainer(progress_bar_refresh_rate=1)` is deprecated in v1.5 and will be removed in v1.7. Please pass `pytorch_lightning.callbacks.progress.TQDMProgressBar` with `refresh_rate` directly to the Trainer's `callbacks` argument instead. Or, to disable the progress bar pass `enable_progress_bar = False` to the Trainer.\n",
      "  rank_zero_deprecation(\n",
      "GPU available: True, used: True\n",
      "TPU available: False, using: 0 TPU cores\n",
      "IPU available: False, using: 0 IPUs\n",
      "HPU available: False, using: 0 HPUs\n",
      "Missing logger folder: ./logs/lightning_logs\\heirarchical_logs\n"
     ]
    },
    {
     "name": "stdout",
     "output_type": "stream",
     "text": [
      "-------NEURAL NET INITIALIZED-------\n",
      "-------TRAINING-------\n"
     ]
    },
    {
     "name": "stderr",
     "output_type": "stream",
     "text": [
      "LOCAL_RANK: 0 - CUDA_VISIBLE_DEVICES: [0]\n",
      "\n",
      "  | Name             | Type             | Params\n",
      "------------------------------------------------------\n",
      "0 | bert             | BertModel        | 109 M \n",
      "1 | hidden           | Linear           | 590 K \n",
      "2 | hidden1          | Linear           | 3.1 K \n",
      "3 | hidden2          | Linear           | 1.5 K \n",
      "4 | task1_classifier | Linear           | 2.3 K \n",
      "5 | task2_classifier | Linear           | 769   \n",
      "6 | task3_classifier | Linear           | 3.8 K \n",
      "7 | criterion_CE     | CrossEntropyLoss | 0     \n",
      "8 | criterion_BCE    | BCELoss          | 0     \n",
      "9 | dropout          | Dropout          | 0     \n",
      "------------------------------------------------------\n",
      "110 M     Trainable params\n",
      "0         Non-trainable params\n",
      "110 M     Total params\n",
      "440.337   Total estimated model params size (MB)\n"
     ]
    },
    {
     "name": "stdout",
     "output_type": "stream",
     "text": [
      "Sanity Checking DataLoader 0:   0%|          | 0/10 [00:01<?, ?it/s]"
     ]
    },
    {
     "name": "stderr",
     "output_type": "stream",
     "text": [
      "C:\\Users\\Arian\\.conda\\envs\\ai-ds-test4\\lib\\site-packages\\pytorch_lightning\\trainer\\connectors\\data_connector.py:240: PossibleUserWarning: The dataloader, val_dataloader 0, does not have many workers which may be a bottleneck. Consider increasing the value of the `num_workers` argument` (try 16 which is the number of cpus on this machine) in the `DataLoader` init to improve performance.\n",
      "  rank_zero_warn(\n"
     ]
    },
    {
     "name": "stdout",
     "output_type": "stream",
     "text": [
      "                                                                             "
     ]
    },
    {
     "name": "stderr",
     "output_type": "stream",
     "text": [
      "C:\\Users\\Arian\\.conda\\envs\\ai-ds-test4\\lib\\site-packages\\pytorch_lightning\\trainer\\connectors\\data_connector.py:240: PossibleUserWarning: The dataloader, train_dataloader, does not have many workers which may be a bottleneck. Consider increasing the value of the `num_workers` argument` (try 16 which is the number of cpus on this machine) in the `DataLoader` init to improve performance.\n",
      "  rank_zero_warn(\n"
     ]
    },
    {
     "name": "stdout",
     "output_type": "stream",
     "text": [
      "Epoch 17: 100%|██████████| 16344/16344 [8:32:17<00:00,  1.88s/it, loss=0.952, v_num=0, train_loss=0.651, val_loss=2.010]      "
     ]
    }
   ],
   "source": [
    "logger = TensorBoardLogger(\"./logs/lightning_logs\",\n",
    "                           config[\"heirarchical_logs\"])\n",
    "\n",
    "\n",
    "print('-------INITIALIZING TWITTER NEURAL NET-------')\n",
    "model = HeirarchichalNN(\n",
    "    task1_n_classes=len(TASK1_LABELS),\n",
    "    task2_n_classes=len(TASK2_LABELS),\n",
    "    task3_n_classes=len(TASK3_LABELS),\n",
    "    n_warmup_steps=warmup_steps,\n",
    "    n_training_steps=total_training_steps,\n",
    "    bert_model_name=config['bert_model_name']\n",
    ")\n",
    "print('-------NEURAL NET INITIALIZED-------')\n",
    "\n",
    "print('-------TRAINING-------')\n",
    "\n",
    "trainer = pl.Trainer(\n",
    "    max_epochs=config['n_epochs'],\n",
    "    gpus=1,\n",
    "    progress_bar_refresh_rate=config['progress_bar_refresh_rate'],\n",
    "    num_sanity_val_steps=config['num_sanity_val_steps'],\n",
    "    fast_dev_run=False,\n",
    "    logger=logger,\n",
    "    checkpoint_callback=checkpoint_callback,\n",
    "    default_root_dir=\"saved/checkpoints\"\n",
    ")\n",
    "trainer.fit(model, data_module)\n",
    "\n",
    "print('-------TRAINING COMPLETE-------')\n",
    "\n",
    "print('-------EXPORTING MODEL-------')\n",
    "PATH = './torch_model'\n",
    "torch.save(model.state_dict(), os.path.join(\n",
    "    PATH, config[\"heirarchichal_model\"]))\n",
    "print('-------MODEL EXPORTED SUCCESSFULLY-------')\n"
   ]
  },
  {
   "cell_type": "markdown",
   "metadata": {},
   "source": [
    "### TRAIN MULTITASK"
   ]
  },
  {
   "cell_type": "code",
   "execution_count": null,
   "metadata": {},
   "outputs": [],
   "source": [
    "logger = TensorBoardLogger(\"./logs/lightning_logs\",\n",
    "                           config[\"multitask_logs\"])\n",
    "\n",
    "\n",
    "print('-------INITIALIZING TWITTER NEURAL NET-------')\n",
    "model =MultiTaskNN(\n",
    "    task1_n_classes=len(TASK1_LABELS),\n",
    "    task2_n_classes=len(TASK2_LABELS),\n",
    "    task3_n_classes=len(TASK3_LABELS),\n",
    "    n_warmup_steps=warmup_steps,\n",
    "    n_training_steps=total_training_steps,\n",
    "    bert_model_name=config['bert_model_name']\n",
    ")\n",
    "print('-------NEURAL NET INITIALIZED-------')\n",
    "\n",
    "print('-------TRAINING-------')\n",
    "\n",
    "trainer = pl.Trainer(\n",
    "    max_epochs=config['n_epochs'],\n",
    "    gpus=1,\n",
    "    progress_bar_refresh_rate=config['progress_bar_refresh_rate'],\n",
    "    num_sanity_val_steps=config['num_sanity_val_steps'],\n",
    "    fast_dev_run=False,\n",
    "    logger=logger,\n",
    "    checkpoint_callback=checkpoint_callback,\n",
    "    default_root_dir=\"saved/checkpoints\"\n",
    ")\n",
    "trainer.fit(model, data_module)\n",
    "\n",
    "print('-------TRAINING COMPLETE-------')\n",
    "\n",
    "print('-------EXPORTING MODEL-------')\n",
    "PATH = './torch_model'\n",
    "torch.save(model.state_dict(), os.path.join(\n",
    "    PATH, config[\"multitask_model\"]))\n",
    "print('-------MODEL EXPORTED SUCCESSFULLY-------')\n"
   ]
  },
  {
   "cell_type": "markdown",
   "metadata": {},
   "source": [
    "### SINGLE TASK - 1"
   ]
  },
  {
   "cell_type": "code",
   "execution_count": null,
   "metadata": {},
   "outputs": [],
   "source": [
    "from classes.SingleTask import SingleTaskNN\n",
    "logger = TensorBoardLogger(\"./logs/lightning_logs\",\n",
    "                           config[\"singletask_logs1\"])\n",
    "\n",
    "\n",
    "print('-------INITIALIZING TWITTER NEURAL NET-------')\n",
    "model = SingleTaskNN(\n",
    "    task_name=\"task1\",\n",
    "    taskn_classes=len(TASK1_LABELS),\n",
    "    n_warmup_steps=warmup_steps,\n",
    "    n_training_steps=total_training_steps,\n",
    "    bert_model_name=config['bert_model_name']\n",
    ")\n",
    "print('-------NEURAL NET INITIALIZED-------')\n",
    "\n",
    "print('-------TRAINING-------')\n",
    "\n",
    "trainer = pl.Trainer(\n",
    "    max_epochs=config['n_epochs'],\n",
    "    gpus=1,\n",
    "    progress_bar_refresh_rate=config['progress_bar_refresh_rate'],\n",
    "    num_sanity_val_steps=config['num_sanity_val_steps'],\n",
    "    fast_dev_run=False,\n",
    "    logger=logger,\n",
    "    checkpoint_callback=checkpoint_callback,\n",
    "    default_root_dir=\"saved/checkpoints\"\n",
    ")\n",
    "trainer.fit(model, data_module)\n",
    "\n",
    "print('-------TRAINING COMPLETE-------')\n",
    "\n",
    "print('-------EXPORTING MODEL-------')\n",
    "PATH = './torch_model'\n",
    "torch.save(model.state_dict(), os.path.join(\n",
    "    PATH, config[\"singletask_model_1\"]))\n",
    "print('-------MODEL EXPORTED SUCCESSFULLY-------')\n"
   ]
  },
  {
   "cell_type": "markdown",
   "metadata": {},
   "source": [
    "### SINGLE TASK - 2"
   ]
  },
  {
   "cell_type": "code",
   "execution_count": null,
   "metadata": {},
   "outputs": [],
   "source": [
    "logger = TensorBoardLogger(\"./logs/lightning_logs\",\n",
    "                           config[\"singletask_logs2\"])\n",
    "\n",
    "\n",
    "print('-------INITIALIZING TWITTER NEURAL NET-------')\n",
    "model = SingleTaskNN(\n",
    "    task_name=\"task2\",\n",
    "    taskn_classes=len(TASK2_LABELS),\n",
    "    n_warmup_steps=warmup_steps,\n",
    "    n_training_steps=total_training_steps,\n",
    "    bert_model_name=config['bert_model_name']\n",
    ")\n",
    "print('-------NEURAL NET INITIALIZED-------')\n",
    "\n",
    "print('-------TRAINING-------')\n",
    "\n",
    "trainer = pl.Trainer(\n",
    "    max_epochs=config['n_epochs'],\n",
    "    gpus=1,\n",
    "    progress_bar_refresh_rate=config['progress_bar_refresh_rate'],\n",
    "    num_sanity_val_steps=config['num_sanity_val_steps'],\n",
    "    fast_dev_run=False,\n",
    "    logger=logger,\n",
    "    checkpoint_callback=checkpoint_callback,\n",
    "    default_root_dir=\"saved/checkpoints\"\n",
    ")\n",
    "trainer.fit(model, data_module)\n",
    "\n",
    "print('-------TRAINING COMPLETE-------')\n",
    "\n",
    "print('-------EXPORTING MODEL-------')\n",
    "PATH = './torch_model'\n",
    "torch.save(model.state_dict(), os.path.join(\n",
    "    PATH, config[\"singletask_model_2\"]))\n",
    "print('-------MODEL EXPORTED SUCCESSFULLY-------')\n"
   ]
  },
  {
   "cell_type": "markdown",
   "metadata": {},
   "source": [
    "### SINGLE TASK - 3"
   ]
  },
  {
   "cell_type": "code",
   "execution_count": null,
   "metadata": {},
   "outputs": [],
   "source": [
    "logger = TensorBoardLogger(\"./logs/lightning_logs\",\n",
    "                           config[\"singletask_logs3\"])\n",
    "\n",
    "\n",
    "print('-------INITIALIZING TWITTER NEURAL NET-------')\n",
    "model = SingleTaskNN(\n",
    "    task_name=\"task3\",\n",
    "    taskn_classes=len(TASK3_LABELS),\n",
    "    n_warmup_steps=warmup_steps,\n",
    "    n_training_steps=total_training_steps,\n",
    "    bert_model_name=config['bert_model_name']\n",
    ")\n",
    "print('-------NEURAL NET INITIALIZED-------')\n",
    "\n",
    "print('-------TRAINING-------')\n",
    "\n",
    "trainer = pl.Trainer(\n",
    "    max_epochs=config['n_epochs'],\n",
    "    gpus=1,\n",
    "    progress_bar_refresh_rate=config['progress_bar_refresh_rate'],\n",
    "    num_sanity_val_steps=config['num_sanity_val_steps'],\n",
    "    fast_dev_run=False,\n",
    "    logger=logger,\n",
    "    checkpoint_callback=checkpoint_callback,\n",
    "    default_root_dir=\"saved/checkpoints\"\n",
    ")\n",
    "trainer.fit(model, data_module)\n",
    "\n",
    "print('-------TRAINING COMPLETE-------')\n",
    "\n",
    "print('-------EXPORTING MODEL-------')\n",
    "PATH = './torch_model'\n",
    "torch.save(model.state_dict(), os.path.join(\n",
    "    PATH, config[\"singletask_model_3\"]))\n",
    "print('-------MODEL EXPORTED SUCCESSFULLY-------')\n"
   ]
  }
 ],
 "metadata": {
  "interpreter": {
   "hash": "6ff18a2c3a5d785561d0cdab5ccf9507df71581ec286f02d4b39c00f7c48e831"
  },
  "kernelspec": {
   "display_name": "Python 3.9.12 ('ai-ds-test4')",
   "language": "python",
   "name": "python3"
  },
  "language_info": {
   "codemirror_mode": {
    "name": "ipython",
    "version": 3
   },
   "file_extension": ".py",
   "mimetype": "text/x-python",
   "name": "python",
   "nbconvert_exporter": "python",
   "pygments_lexer": "ipython3",
   "version": "3.9.12"
  },
  "orig_nbformat": 4
 },
 "nbformat": 4,
 "nbformat_minor": 2
}
