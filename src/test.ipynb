{
 "cells": [
  {
   "cell_type": "code",
   "execution_count": 1,
   "metadata": {},
   "outputs": [
    {
     "name": "stderr",
     "output_type": "stream",
     "text": [
      "C:\\Users\\Arian\\.conda\\envs\\ai-ds-test4\\lib\\site-packages\\tqdm\\auto.py:22: TqdmWarning: IProgress not found. Please update jupyter and ipywidgets. See https://ipywidgets.readthedocs.io/en/stable/user_install.html\n",
      "  from .autonotebook import tqdm as notebook_tqdm\n"
     ]
    }
   ],
   "source": [
    "import os\n",
    "import json\n",
    "import pandas as pd\n",
    "import torch\n",
    "from transformers import AutoTokenizer\n",
    "\n",
    "from torchmetrics.functional import accuracy, f1_score, auroc\n",
    "from torchsummary import summary\n",
    "\n",
    "from classes.TwitterDataset import TwitterDataset\n",
    "from classes.Heirarchichal import HeirarchichalNN\n",
    "from classes.MultiTask import MultiTaskNN\n",
    "from classes.SingleTask import SingleTaskNN\n"
   ]
  },
  {
   "cell_type": "code",
   "execution_count": 2,
   "metadata": {},
   "outputs": [],
   "source": [
    "torch.set_printoptions(sci_mode=False)"
   ]
  },
  {
   "cell_type": "code",
   "execution_count": 3,
   "metadata": {},
   "outputs": [],
   "source": [
    "\n",
    "with open('./config/config.json', 'r') as f:\n",
    "    config = json.load(f)\n",
    "\n",
    "device = torch.device('cuda' if torch.cuda.is_available() else 'cpu')\n",
    "\n"
   ]
  },
  {
   "cell_type": "code",
   "execution_count": 4,
   "metadata": {},
   "outputs": [],
   "source": [
    "test_df = pd.read_csv('../res/preprocessed/test_final.csv')\n",
    "\n",
    "tokenizer = AutoTokenizer.from_pretrained(config['bert_model_name'])\n",
    "test_dataset = TwitterDataset(\n",
    "    test_df, tokenizer, max_token_len=config['max_token_len'])\n",
    "\n",
    "LABEL_COLUMNS = list(test_df.columns)\n",
    "LABEL_COLUMNS.remove('text')\n",
    "\n",
    "TASK1_LABELS = LABEL_COLUMNS[:3]\n",
    "TASK2_LABELS = LABEL_COLUMNS[3:4]\n",
    "TASK3_LABELS = LABEL_COLUMNS[4:]\n",
    "\n",
    "\n",
    "task1_id2label = {idx: label for idx, label in enumerate(TASK1_LABELS)}\n",
    "task1_label2id = {label: idx for idx, label in enumerate(TASK1_LABELS)}\n",
    "\n",
    "task2_label2id = {label: idx for idx, label in enumerate(TASK2_LABELS)}\n",
    "task2_id2label = {idx: label for idx, label in enumerate(TASK2_LABELS)}\n",
    "\n",
    "task3_label2id = {label: idx for idx, label in enumerate(TASK3_LABELS)}\n",
    "\n",
    "task3_id2label = {idx: label for idx, label in enumerate(TASK3_LABELS)}\n"
   ]
  },
  {
   "cell_type": "code",
   "execution_count": 13,
   "metadata": {},
   "outputs": [
    {
     "data": {
      "text/plain": [
       "'heirarchichal_20.pt'"
      ]
     },
     "execution_count": 13,
     "metadata": {},
     "output_type": "execute_result"
    }
   ],
   "source": [
    "config[\"heirarchichal_model\"]"
   ]
  },
  {
   "cell_type": "markdown",
   "metadata": {},
   "source": [
    "### LOAD Models"
   ]
  },
  {
   "cell_type": "code",
   "execution_count": 6,
   "metadata": {},
   "outputs": [
    {
     "name": "stdout",
     "output_type": "stream",
     "text": [
      "---------LOADING MODEL---------\n"
     ]
    },
    {
     "name": "stderr",
     "output_type": "stream",
     "text": [
      "Some weights of the model checkpoint at distilbert-base-uncased were not used when initializing DistilBertModel: ['vocab_layer_norm.bias', 'vocab_layer_norm.weight', 'vocab_projector.weight', 'vocab_projector.bias', 'vocab_transform.bias', 'vocab_transform.weight']\n",
      "- This IS expected if you are initializing DistilBertModel from the checkpoint of a model trained on another task or with another architecture (e.g. initializing a BertForSequenceClassification model from a BertForPreTraining model).\n",
      "- This IS NOT expected if you are initializing DistilBertModel from the checkpoint of a model that you expect to be exactly identical (initializing a BertForSequenceClassification model from a BertForSequenceClassification model).\n"
     ]
    },
    {
     "name": "stdout",
     "output_type": "stream",
     "text": [
      "heirarchichal_model\n"
     ]
    },
    {
     "name": "stderr",
     "output_type": "stream",
     "text": [
      "Some weights of the model checkpoint at distilbert-base-uncased were not used when initializing DistilBertModel: ['vocab_layer_norm.bias', 'vocab_layer_norm.weight', 'vocab_projector.weight', 'vocab_projector.bias', 'vocab_transform.bias', 'vocab_transform.weight']\n",
      "- This IS expected if you are initializing DistilBertModel from the checkpoint of a model trained on another task or with another architecture (e.g. initializing a BertForSequenceClassification model from a BertForPreTraining model).\n",
      "- This IS NOT expected if you are initializing DistilBertModel from the checkpoint of a model that you expect to be exactly identical (initializing a BertForSequenceClassification model from a BertForSequenceClassification model).\n"
     ]
    },
    {
     "name": "stdout",
     "output_type": "stream",
     "text": [
      "multitask_model\n"
     ]
    },
    {
     "name": "stderr",
     "output_type": "stream",
     "text": [
      "Some weights of the model checkpoint at distilbert-base-uncased were not used when initializing DistilBertModel: ['vocab_layer_norm.bias', 'vocab_layer_norm.weight', 'vocab_projector.weight', 'vocab_projector.bias', 'vocab_transform.bias', 'vocab_transform.weight']\n",
      "- This IS expected if you are initializing DistilBertModel from the checkpoint of a model trained on another task or with another architecture (e.g. initializing a BertForSequenceClassification model from a BertForPreTraining model).\n",
      "- This IS NOT expected if you are initializing DistilBertModel from the checkpoint of a model that you expect to be exactly identical (initializing a BertForSequenceClassification model from a BertForSequenceClassification model).\n"
     ]
    },
    {
     "name": "stdout",
     "output_type": "stream",
     "text": [
      "singletask_model_1\n"
     ]
    },
    {
     "name": "stderr",
     "output_type": "stream",
     "text": [
      "Some weights of the model checkpoint at distilbert-base-uncased were not used when initializing DistilBertModel: ['vocab_layer_norm.bias', 'vocab_layer_norm.weight', 'vocab_projector.weight', 'vocab_projector.bias', 'vocab_transform.bias', 'vocab_transform.weight']\n",
      "- This IS expected if you are initializing DistilBertModel from the checkpoint of a model trained on another task or with another architecture (e.g. initializing a BertForSequenceClassification model from a BertForPreTraining model).\n",
      "- This IS NOT expected if you are initializing DistilBertModel from the checkpoint of a model that you expect to be exactly identical (initializing a BertForSequenceClassification model from a BertForSequenceClassification model).\n"
     ]
    },
    {
     "name": "stdout",
     "output_type": "stream",
     "text": [
      "singletask_model_2\n"
     ]
    },
    {
     "name": "stderr",
     "output_type": "stream",
     "text": [
      "Some weights of the model checkpoint at distilbert-base-uncased were not used when initializing DistilBertModel: ['vocab_layer_norm.bias', 'vocab_layer_norm.weight', 'vocab_projector.weight', 'vocab_projector.bias', 'vocab_transform.bias', 'vocab_transform.weight']\n",
      "- This IS expected if you are initializing DistilBertModel from the checkpoint of a model trained on another task or with another architecture (e.g. initializing a BertForSequenceClassification model from a BertForPreTraining model).\n",
      "- This IS NOT expected if you are initializing DistilBertModel from the checkpoint of a model that you expect to be exactly identical (initializing a BertForSequenceClassification model from a BertForSequenceClassification model).\n"
     ]
    },
    {
     "name": "stdout",
     "output_type": "stream",
     "text": [
      "singletask_model_3\n"
     ]
    }
   ],
   "source": [
    "print('---------LOADING MODEL---------')\n",
    "PATH = './torch_model'\n",
    "\n",
    "model_names_in_config = [\"heirarchichal_model\",\n",
    "                         \"multitask_model\", \"singletask_model_1\", \"singletask_model_2\",\"singletask_model_3\"]\n",
    "loaded_models = []\n",
    "singletask_taskn = {\"task1\":3,\"task2\":1,\"task3\":5}\n",
    "task_names = list(singletask_taskn)\n",
    "task_n_classes = list(singletask_taskn.values())\n",
    "\n",
    "for idx, model_name in enumerate(model_names_in_config):    \n",
    "    if model_name == \"heirarchichal_model\":    \n",
    "        loaded_model = HeirarchichalNN(bert_model_name=config['bert_model_name'])\n",
    "    elif model_name == \"multitask_model\":\n",
    "        loaded_model = MultiTaskNN(bert_model_name=config['bert_model_name'])\n",
    "    else:\n",
    "        loaded_model = SingleTaskNN(task_name=task_names[idx-2], taskn_classes=task_n_classes[idx-2],\n",
    "            bert_model_name=config['bert_model_name'])\n",
    "    print(model_name)\n",
    "    loaded_model.load_state_dict(torch.load(\n",
    "    os.path.join(PATH, config[model_name]), map_location=device))\n",
    "\n",
    "    loaded_model = loaded_model.to(device)\n",
    "    loaded_model.eval()\n",
    "    loaded_model.freeze()\n",
    "\n",
    "    loaded_models.append(loaded_model)\n",
    "    loaded_model = None\n"
   ]
  },
  {
   "cell_type": "code",
   "execution_count": 7,
   "metadata": {},
   "outputs": [],
   "source": [
    "def get_accuracy_score_multi_output(model):\n",
    "    task1_predictions = []\n",
    "    task1_labels = []\n",
    "\n",
    "    task2_predictions = []\n",
    "    task2_labels = []\n",
    "\n",
    "    task3_predictions = []\n",
    "    task3_labels = []\n",
    "\n",
    "    with torch.no_grad():\n",
    "        for idx, item in enumerate(test_dataset):\n",
    "            \n",
    "            _, prediction = model(\n",
    "                item['input_ids'].unsqueeze(dim=0).to(device),\n",
    "                item['attention_mask'].unsqueeze(dim=0).to(device)\n",
    "            )\n",
    "\n",
    "            task1_predictions.append(prediction[0].flatten())\n",
    "            task2_predictions.append(prediction[1].flatten())\n",
    "            task3_predictions.append(prediction[2].flatten())\n",
    "\n",
    "            task1_labels.append(item['labels1'].int())\n",
    "            task2_labels.append(item['labels2'].int())\n",
    "            task3_labels.append(item['labels3'].int())\n",
    "\n",
    "    task1_predictions_ = torch.stack(task1_predictions).detach().cpu()\n",
    "    task1_labels_ = torch.stack(task1_labels).detach().cpu()\n",
    "   #  print(task1_predictions)\n",
    "   #  print(task2_predictions)\n",
    "    task2_predictions_ = torch.stack(task2_predictions).detach().cpu()\n",
    "    task2_labels_ = torch.stack(task2_labels).detach().cpu()\n",
    "\n",
    "    task3_predictions_ = torch.stack(task3_predictions).detach().cpu()\n",
    "    task3_labels_ = torch.stack(task3_labels).detach().cpu()\n",
    "\n",
    "    THRESHOLD = 0.5\n",
    "\n",
    "    task1_accuracy_score = accuracy(\n",
    "        task1_predictions_, task1_labels_, threshold=THRESHOLD)\n",
    "\n",
    "    task2_accuracy_score = accuracy(\n",
    "        task2_predictions_, task2_labels_, threshold=THRESHOLD)\n",
    "\n",
    "    task3_accuracy_score = accuracy(\n",
    "        task3_predictions_, task3_labels_, threshold=THRESHOLD)\n",
    "\n",
    "    print(f'task1_accuracy_score: {task1_accuracy_score}')\n",
    "    print(f'task2_accuracy_score: {task2_accuracy_score}')\n",
    "    print(f'task3_accuracy_score: {task3_accuracy_score}')"
   ]
  },
  {
   "cell_type": "code",
   "execution_count": 6,
   "metadata": {},
   "outputs": [],
   "source": [
    "def get_accuracy_score_single_output(model, task_idx):\n",
    "    task_predictions = []\n",
    "    task_labels = []\n",
    "    label = 'labels'+str(task_idx-1)\n",
    "    with torch.no_grad():\n",
    "        for idx, item in enumerate(test_dataset):\n",
    "            \n",
    "            _, prediction = model(\n",
    "                item['input_ids'].unsqueeze(dim=0).to(device),\n",
    "                item['attention_mask'].unsqueeze(dim=0).to(device)\n",
    "            )\n",
    "\n",
    "            task_predictions.append(prediction.flatten())\n",
    "            task_labels.append(item[label].int())\n",
    "\n",
    "    task_predictions_ = torch.stack(task_predictions).detach().cpu()\n",
    "    task_labels_ = torch.stack(task_labels).detach().cpu()\n",
    "    THRESHOLD = 0.5\n",
    "\n",
    "    task_accuracy_score = accuracy(\n",
    "        task_predictions_, task_labels_, threshold=THRESHOLD)\n",
    "\n",
    "    print(f'task{task_idx}_accuracy_score: {task_accuracy_score}')"
   ]
  },
  {
   "cell_type": "code",
   "execution_count": 7,
   "metadata": {},
   "outputs": [
    {
     "ename": "NameError",
     "evalue": "name 'loaded_models' is not defined",
     "output_type": "error",
     "traceback": [
      "\u001b[1;31m---------------------------------------------------------------------------\u001b[0m",
      "\u001b[1;31mNameError\u001b[0m                                 Traceback (most recent call last)",
      "\u001b[1;32me:\\BSCS 3- 2ND SEM\\9334-CS321-ARTIFICIAL_INTELLIGENCE\\GithubFinalProj\\hate-speech-model\\src\\test.ipynb Cell 10'\u001b[0m in \u001b[0;36m<cell line: 1>\u001b[1;34m()\u001b[0m\n\u001b[1;32m----> <a href='vscode-notebook-cell:/e%3A/BSCS%203-%202ND%20SEM/9334-CS321-ARTIFICIAL_INTELLIGENCE/GithubFinalProj/hate-speech-model/src/test.ipynb#ch0000009?line=0'>1</a>\u001b[0m \u001b[39mfor\u001b[39;00m idx, model \u001b[39min\u001b[39;00m \u001b[39menumerate\u001b[39m(loaded_models):\n\u001b[0;32m      <a href='vscode-notebook-cell:/e%3A/BSCS%203-%202ND%20SEM/9334-CS321-ARTIFICIAL_INTELLIGENCE/GithubFinalProj/hate-speech-model/src/test.ipynb#ch0000009?line=1'>2</a>\u001b[0m    \u001b[39mprint\u001b[39m(model_names_in_config[idx])\n\u001b[0;32m      <a href='vscode-notebook-cell:/e%3A/BSCS%203-%202ND%20SEM/9334-CS321-ARTIFICIAL_INTELLIGENCE/GithubFinalProj/hate-speech-model/src/test.ipynb#ch0000009?line=2'>3</a>\u001b[0m    \u001b[39mif\u001b[39;00m idx \u001b[39m>\u001b[39m \u001b[39m1\u001b[39m:\n",
      "\u001b[1;31mNameError\u001b[0m: name 'loaded_models' is not defined"
     ]
    }
   ],
   "source": [
    "for idx, model in enumerate(loaded_models):\n",
    "   print(model_names_in_config[idx])\n",
    "   if idx > 1:\n",
    "      get_accuracy_score_single_output(model, task_idx=idx)\n",
    "   else:\n",
    "      get_accuracy_score_multi_output(model)\n",
    "      \n"
   ]
  },
  {
   "cell_type": "code",
   "execution_count": null,
   "metadata": {},
   "outputs": [],
   "source": []
  },
  {
   "cell_type": "code",
   "execution_count": 10,
   "metadata": {},
   "outputs": [
    {
     "name": "stderr",
     "output_type": "stream",
     "text": [
      "Some weights of the model checkpoint at bert-base-uncased were not used when initializing BertModel: ['cls.seq_relationship.weight', 'cls.predictions.transform.dense.weight', 'cls.predictions.transform.dense.bias', 'cls.seq_relationship.bias', 'cls.predictions.decoder.weight', 'cls.predictions.bias', 'cls.predictions.transform.LayerNorm.weight', 'cls.predictions.transform.LayerNorm.bias']\n",
      "- This IS expected if you are initializing BertModel from the checkpoint of a model trained on another task or with another architecture (e.g. initializing a BertForSequenceClassification model from a BertForPreTraining model).\n",
      "- This IS NOT expected if you are initializing BertModel from the checkpoint of a model that you expect to be exactly identical (initializing a BertForSequenceClassification model from a BertForSequenceClassification model).\n"
     ]
    },
    {
     "ename": "RuntimeError",
     "evalue": "Error(s) in loading state_dict for SingleTaskNN:\n\tMissing key(s) in state_dict: \"bert.embeddings.position_ids\", \"bert.embeddings.token_type_embeddings.weight\", \"bert.encoder.layer.0.attention.self.query.weight\", \"bert.encoder.layer.0.attention.self.query.bias\", \"bert.encoder.layer.0.attention.self.key.weight\", \"bert.encoder.layer.0.attention.self.key.bias\", \"bert.encoder.layer.0.attention.self.value.weight\", \"bert.encoder.layer.0.attention.self.value.bias\", \"bert.encoder.layer.0.attention.output.dense.weight\", \"bert.encoder.layer.0.attention.output.dense.bias\", \"bert.encoder.layer.0.attention.output.LayerNorm.weight\", \"bert.encoder.layer.0.attention.output.LayerNorm.bias\", \"bert.encoder.layer.0.intermediate.dense.weight\", \"bert.encoder.layer.0.intermediate.dense.bias\", \"bert.encoder.layer.0.output.dense.weight\", \"bert.encoder.layer.0.output.dense.bias\", \"bert.encoder.layer.0.output.LayerNorm.weight\", \"bert.encoder.layer.0.output.LayerNorm.bias\", \"bert.encoder.layer.1.attention.self.query.weight\", \"bert.encoder.layer.1.attention.self.query.bias\", \"bert.encoder.layer.1.attention.self.key.weight\", \"bert.encoder.layer.1.attention.self.key.bias\", \"bert.encoder.layer.1.attention.self.value.weight\", \"bert.encoder.layer.1.attention.self.value.bias\", \"bert.encoder.layer.1.attention.output.dense.weight\", \"bert.encoder.layer.1.attention.output.dense.bias\", \"bert.encoder.layer.1.attention.output.LayerNorm.weight\", \"bert.encoder.layer.1.attention.output.LayerNorm.bias\", \"bert.encoder.layer.1.intermediate.dense.weight\", \"bert.encoder.layer.1.intermediate.dense.bias\", \"bert.encoder.layer.1.output.dense.weight\", \"bert.encoder.layer.1.output.dense.bias\", \"bert.encoder.layer.1.output.LayerNorm.weight\", \"bert.encoder.layer.1.output.LayerNorm.bias\", \"bert.encoder.layer.2.attention.self.query.weight\", \"bert.encoder.layer.2.attention.self.query.bias\", \"bert.encoder.layer.2.attention.self.key.weight\", \"bert.encoder.layer.2.attention.self.key.bias\", \"bert.encoder.layer.2.attention.self.value.weight\", \"bert.encoder.layer.2.attention.self.value.bias\", \"bert.encoder.layer.2.attention.output.dense.weight\", \"bert.encoder.layer.2.attention.output.dense.bias\", \"bert.encoder.layer.2.attention.output.LayerNorm.weight\", \"bert.encoder.layer.2.attention.output.LayerNorm.bias\", \"bert.encoder.layer.2.intermediate.dense.weight\", \"bert.encoder.layer.2.intermediate.dense.bias\", \"bert.encoder.layer.2.output.dense.weight\", \"bert.encoder.layer.2.output.dense.bias\", \"bert.encoder.layer.2.output.LayerNorm.weight\", \"bert.encoder.layer.2.output.LayerNorm.bias\", \"bert.encoder.layer.3.attention.self.query.weight\", \"bert.encoder.layer.3.attention.self.query.bias\", \"bert.encoder.layer.3.attention.self.key.weight\", \"bert.encoder.layer.3.attention.self.key.bias\", \"bert.encoder.layer.3.attention.self.value.weight\", \"bert.encoder.layer.3.attention.self.value.bias\", \"bert.encoder.layer.3.attention.output.dense.weight\", \"bert.encoder.layer.3.attention.output.dense.bias\", \"bert.encoder.layer.3.attention.output.LayerNorm.weight\", \"bert.encoder.layer.3.attention.output.LayerNorm.bias\", \"bert.encoder.layer.3.intermediate.dense.weight\", \"bert.encoder.layer.3.intermediate.dense.bias\", \"bert.encoder.layer.3.output.dense.weight\", \"bert.encoder.layer.3.output.dense.bias\", \"bert.encoder.layer.3.output.LayerNorm.weight\", \"bert.encoder.layer.3.output.LayerNorm.bias\", \"bert.encoder.layer.4.attention.self.query.weight\", \"bert.encoder.layer.4.attention.self.query.bias\", \"bert.encoder.layer.4.attention.self.key.weight\", \"bert.encoder.layer.4.attention.self.key.bias\", \"bert.encoder.layer.4.attention.self.value.weight\", \"bert.encoder.layer.4.attention.self.value.bias\", \"bert.encoder.layer.4.attention.output.dense.weight\", \"bert.encoder.layer.4.attention.output.dense.bias\", \"bert.encoder.layer.4.attention.output.LayerNorm.weight\", \"bert.encoder.layer.4.attention.output.LayerNorm.bias\", \"bert.encoder.layer.4.intermediate.dense.weight\", \"bert.encoder.layer.4.intermediate.dense.bias\", \"bert.encoder.layer.4.output.dense.weight\", \"bert.encoder.layer.4.output.dense.bias\", \"bert.encoder.layer.4.output.LayerNorm.weight\", \"bert.encoder.layer.4.output.LayerNorm.bias\", \"bert.encoder.layer.5.attention.self.query.weight\", \"bert.encoder.layer.5.attention.self.query.bias\", \"bert.encoder.layer.5.attention.self.key.weight\", \"bert.encoder.layer.5.attention.self.key.bias\", \"bert.encoder.layer.5.attention.self.value.weight\", \"bert.encoder.layer.5.attention.self.value.bias\", \"bert.encoder.layer.5.attention.output.dense.weight\", \"bert.encoder.layer.5.attention.output.dense.bias\", \"bert.encoder.layer.5.attention.output.LayerNorm.weight\", \"bert.encoder.layer.5.attention.output.LayerNorm.bias\", \"bert.encoder.layer.5.intermediate.dense.weight\", \"bert.encoder.layer.5.intermediate.dense.bias\", \"bert.encoder.layer.5.output.dense.weight\", \"bert.encoder.layer.5.output.dense.bias\", \"bert.encoder.layer.5.output.LayerNorm.weight\", \"bert.encoder.layer.5.output.LayerNorm.bias\", \"bert.encoder.layer.6.attention.self.query.weight\", \"bert.encoder.layer.6.attention.self.query.bias\", \"bert.encoder.layer.6.attention.self.key.weight\", \"bert.encoder.layer.6.attention.self.key.bias\", \"bert.encoder.layer.6.attention.self.value.weight\", \"bert.encoder.layer.6.attention.self.value.bias\", \"bert.encoder.layer.6.attention.output.dense.weight\", \"bert.encoder.layer.6.attention.output.dense.bias\", \"bert.encoder.layer.6.attention.output.LayerNorm.weight\", \"bert.encoder.layer.6.attention.output.LayerNorm.bias\", \"bert.encoder.layer.6.intermediate.dense.weight\", \"bert.encoder.layer.6.intermediate.dense.bias\", \"bert.encoder.layer.6.output.dense.weight\", \"bert.encoder.layer.6.output.dense.bias\", \"bert.encoder.layer.6.output.LayerNorm.weight\", \"bert.encoder.layer.6.output.LayerNorm.bias\", \"bert.encoder.layer.7.attention.self.query.weight\", \"bert.encoder.layer.7.attention.self.query.bias\", \"bert.encoder.layer.7.attention.self.key.weight\", \"bert.encoder.layer.7.attention.self.key.bias\", \"bert.encoder.layer.7.attention.self.value.weight\", \"bert.encoder.layer.7.attention.self.value.bias\", \"bert.encoder.layer.7.attention.output.dense.weight\", \"bert.encoder.layer.7.attention.output.dense.bias\", \"bert.encoder.layer.7.attention.output.LayerNorm.weight\", \"bert.encoder.layer.7.attention.output.LayerNorm.bias\", \"bert.encoder.layer.7.intermediate.dense.weight\", \"bert.encoder.layer.7.intermediate.dense.bias\", \"bert.encoder.layer.7.output.dense.weight\", \"bert.encoder.layer.7.output.dense.bias\", \"bert.encoder.layer.7.output.LayerNorm.weight\", \"bert.encoder.layer.7.output.LayerNorm.bias\", \"bert.encoder.layer.8.attention.self.query.weight\", \"bert.encoder.layer.8.attention.self.query.bias\", \"bert.encoder.layer.8.attention.self.key.weight\", \"bert.encoder.layer.8.attention.self.key.bias\", \"bert.encoder.layer.8.attention.self.value.weight\", \"bert.encoder.layer.8.attention.self.value.bias\", \"bert.encoder.layer.8.attention.output.dense.weight\", \"bert.encoder.layer.8.attention.output.dense.bias\", \"bert.encoder.layer.8.attention.output.LayerNorm.weight\", \"bert.encoder.layer.8.attention.output.LayerNorm.bias\", \"bert.encoder.layer.8.intermediate.dense.weight\", \"bert.encoder.layer.8.intermediate.dense.bias\", \"bert.encoder.layer.8.output.dense.weight\", \"bert.encoder.layer.8.output.dense.bias\", \"bert.encoder.layer.8.output.LayerNorm.weight\", \"bert.encoder.layer.8.output.LayerNorm.bias\", \"bert.encoder.layer.9.attention.self.query.weight\", \"bert.encoder.layer.9.attention.self.query.bias\", \"bert.encoder.layer.9.attention.self.key.weight\", \"bert.encoder.layer.9.attention.self.key.bias\", \"bert.encoder.layer.9.attention.self.value.weight\", \"bert.encoder.layer.9.attention.self.value.bias\", \"bert.encoder.layer.9.attention.output.dense.weight\", \"bert.encoder.layer.9.attention.output.dense.bias\", \"bert.encoder.layer.9.attention.output.LayerNorm.weight\", \"bert.encoder.layer.9.attention.output.LayerNorm.bias\", \"bert.encoder.layer.9.intermediate.dense.weight\", \"bert.encoder.layer.9.intermediate.dense.bias\", \"bert.encoder.layer.9.output.dense.weight\", \"bert.encoder.layer.9.output.dense.bias\", \"bert.encoder.layer.9.output.LayerNorm.weight\", \"bert.encoder.layer.9.output.LayerNorm.bias\", \"bert.encoder.layer.10.attention.self.query.weight\", \"bert.encoder.layer.10.attention.self.query.bias\", \"bert.encoder.layer.10.attention.self.key.weight\", \"bert.encoder.layer.10.attention.self.key.bias\", \"bert.encoder.layer.10.attention.self.value.weight\", \"bert.encoder.layer.10.attention.self.value.bias\", \"bert.encoder.layer.10.attention.output.dense.weight\", \"bert.encoder.layer.10.attention.output.dense.bias\", \"bert.encoder.layer.10.attention.output.LayerNorm.weight\", \"bert.encoder.layer.10.attention.output.LayerNorm.bias\", \"bert.encoder.layer.10.intermediate.dense.weight\", \"bert.encoder.layer.10.intermediate.dense.bias\", \"bert.encoder.layer.10.output.dense.weight\", \"bert.encoder.layer.10.output.dense.bias\", \"bert.encoder.layer.10.output.LayerNorm.weight\", \"bert.encoder.layer.10.output.LayerNorm.bias\", \"bert.encoder.layer.11.attention.self.query.weight\", \"bert.encoder.layer.11.attention.self.query.bias\", \"bert.encoder.layer.11.attention.self.key.weight\", \"bert.encoder.layer.11.attention.self.key.bias\", \"bert.encoder.layer.11.attention.self.value.weight\", \"bert.encoder.layer.11.attention.self.value.bias\", \"bert.encoder.layer.11.attention.output.dense.weight\", \"bert.encoder.layer.11.attention.output.dense.bias\", \"bert.encoder.layer.11.attention.output.LayerNorm.weight\", \"bert.encoder.layer.11.attention.output.LayerNorm.bias\", \"bert.encoder.layer.11.intermediate.dense.weight\", \"bert.encoder.layer.11.intermediate.dense.bias\", \"bert.encoder.layer.11.output.dense.weight\", \"bert.encoder.layer.11.output.dense.bias\", \"bert.encoder.layer.11.output.LayerNorm.weight\", \"bert.encoder.layer.11.output.LayerNorm.bias\", \"bert.pooler.dense.weight\", \"bert.pooler.dense.bias\". \n\tUnexpected key(s) in state_dict: \"bert.transformer.layer.0.attention.q_lin.weight\", \"bert.transformer.layer.0.attention.q_lin.bias\", \"bert.transformer.layer.0.attention.k_lin.weight\", \"bert.transformer.layer.0.attention.k_lin.bias\", \"bert.transformer.layer.0.attention.v_lin.weight\", \"bert.transformer.layer.0.attention.v_lin.bias\", \"bert.transformer.layer.0.attention.out_lin.weight\", \"bert.transformer.layer.0.attention.out_lin.bias\", \"bert.transformer.layer.0.sa_layer_norm.weight\", \"bert.transformer.layer.0.sa_layer_norm.bias\", \"bert.transformer.layer.0.ffn.lin1.weight\", \"bert.transformer.layer.0.ffn.lin1.bias\", \"bert.transformer.layer.0.ffn.lin2.weight\", \"bert.transformer.layer.0.ffn.lin2.bias\", \"bert.transformer.layer.0.output_layer_norm.weight\", \"bert.transformer.layer.0.output_layer_norm.bias\", \"bert.transformer.layer.1.attention.q_lin.weight\", \"bert.transformer.layer.1.attention.q_lin.bias\", \"bert.transformer.layer.1.attention.k_lin.weight\", \"bert.transformer.layer.1.attention.k_lin.bias\", \"bert.transformer.layer.1.attention.v_lin.weight\", \"bert.transformer.layer.1.attention.v_lin.bias\", \"bert.transformer.layer.1.attention.out_lin.weight\", \"bert.transformer.layer.1.attention.out_lin.bias\", \"bert.transformer.layer.1.sa_layer_norm.weight\", \"bert.transformer.layer.1.sa_layer_norm.bias\", \"bert.transformer.layer.1.ffn.lin1.weight\", \"bert.transformer.layer.1.ffn.lin1.bias\", \"bert.transformer.layer.1.ffn.lin2.weight\", \"bert.transformer.layer.1.ffn.lin2.bias\", \"bert.transformer.layer.1.output_layer_norm.weight\", \"bert.transformer.layer.1.output_layer_norm.bias\", \"bert.transformer.layer.2.attention.q_lin.weight\", \"bert.transformer.layer.2.attention.q_lin.bias\", \"bert.transformer.layer.2.attention.k_lin.weight\", \"bert.transformer.layer.2.attention.k_lin.bias\", \"bert.transformer.layer.2.attention.v_lin.weight\", \"bert.transformer.layer.2.attention.v_lin.bias\", \"bert.transformer.layer.2.attention.out_lin.weight\", \"bert.transformer.layer.2.attention.out_lin.bias\", \"bert.transformer.layer.2.sa_layer_norm.weight\", \"bert.transformer.layer.2.sa_layer_norm.bias\", \"bert.transformer.layer.2.ffn.lin1.weight\", \"bert.transformer.layer.2.ffn.lin1.bias\", \"bert.transformer.layer.2.ffn.lin2.weight\", \"bert.transformer.layer.2.ffn.lin2.bias\", \"bert.transformer.layer.2.output_layer_norm.weight\", \"bert.transformer.layer.2.output_layer_norm.bias\", \"bert.transformer.layer.3.attention.q_lin.weight\", \"bert.transformer.layer.3.attention.q_lin.bias\", \"bert.transformer.layer.3.attention.k_lin.weight\", \"bert.transformer.layer.3.attention.k_lin.bias\", \"bert.transformer.layer.3.attention.v_lin.weight\", \"bert.transformer.layer.3.attention.v_lin.bias\", \"bert.transformer.layer.3.attention.out_lin.weight\", \"bert.transformer.layer.3.attention.out_lin.bias\", \"bert.transformer.layer.3.sa_layer_norm.weight\", \"bert.transformer.layer.3.sa_layer_norm.bias\", \"bert.transformer.layer.3.ffn.lin1.weight\", \"bert.transformer.layer.3.ffn.lin1.bias\", \"bert.transformer.layer.3.ffn.lin2.weight\", \"bert.transformer.layer.3.ffn.lin2.bias\", \"bert.transformer.layer.3.output_layer_norm.weight\", \"bert.transformer.layer.3.output_layer_norm.bias\", \"bert.transformer.layer.4.attention.q_lin.weight\", \"bert.transformer.layer.4.attention.q_lin.bias\", \"bert.transformer.layer.4.attention.k_lin.weight\", \"bert.transformer.layer.4.attention.k_lin.bias\", \"bert.transformer.layer.4.attention.v_lin.weight\", \"bert.transformer.layer.4.attention.v_lin.bias\", \"bert.transformer.layer.4.attention.out_lin.weight\", \"bert.transformer.layer.4.attention.out_lin.bias\", \"bert.transformer.layer.4.sa_layer_norm.weight\", \"bert.transformer.layer.4.sa_layer_norm.bias\", \"bert.transformer.layer.4.ffn.lin1.weight\", \"bert.transformer.layer.4.ffn.lin1.bias\", \"bert.transformer.layer.4.ffn.lin2.weight\", \"bert.transformer.layer.4.ffn.lin2.bias\", \"bert.transformer.layer.4.output_layer_norm.weight\", \"bert.transformer.layer.4.output_layer_norm.bias\", \"bert.transformer.layer.5.attention.q_lin.weight\", \"bert.transformer.layer.5.attention.q_lin.bias\", \"bert.transformer.layer.5.attention.k_lin.weight\", \"bert.transformer.layer.5.attention.k_lin.bias\", \"bert.transformer.layer.5.attention.v_lin.weight\", \"bert.transformer.layer.5.attention.v_lin.bias\", \"bert.transformer.layer.5.attention.out_lin.weight\", \"bert.transformer.layer.5.attention.out_lin.bias\", \"bert.transformer.layer.5.sa_layer_norm.weight\", \"bert.transformer.layer.5.sa_layer_norm.bias\", \"bert.transformer.layer.5.ffn.lin1.weight\", \"bert.transformer.layer.5.ffn.lin1.bias\", \"bert.transformer.layer.5.ffn.lin2.weight\", \"bert.transformer.layer.5.ffn.lin2.bias\", \"bert.transformer.layer.5.output_layer_norm.weight\", \"bert.transformer.layer.5.output_layer_norm.bias\". ",
     "output_type": "error",
     "traceback": [
      "\u001b[1;31m---------------------------------------------------------------------------\u001b[0m",
      "\u001b[1;31mRuntimeError\u001b[0m                              Traceback (most recent call last)",
      "\u001b[1;32me:\\BSCS 3- 2ND SEM\\9334-CS321-ARTIFICIAL_INTELLIGENCE\\GithubFinalProj\\hate-speech-model\\src\\test.ipynb Cell 12'\u001b[0m in \u001b[0;36m<cell line: 8>\u001b[1;34m()\u001b[0m\n\u001b[0;32m      <a href='vscode-notebook-cell:/e%3A/BSCS%203-%202ND%20SEM/9334-CS321-ARTIFICIAL_INTELLIGENCE/GithubFinalProj/hate-speech-model/src/test.ipynb#ch0000011?line=8'>9</a>\u001b[0m label \u001b[39m=\u001b[39m \u001b[39mf\u001b[39m\u001b[39m'\u001b[39m\u001b[39msingletask\u001b[39m\u001b[39m{\u001b[39;00mi\u001b[39m+\u001b[39m\u001b[39m1\u001b[39m\u001b[39m}\u001b[39;00m\u001b[39m.pt\u001b[39m\u001b[39m'\u001b[39m\n\u001b[0;32m     <a href='vscode-notebook-cell:/e%3A/BSCS%203-%202ND%20SEM/9334-CS321-ARTIFICIAL_INTELLIGENCE/GithubFinalProj/hate-speech-model/src/test.ipynb#ch0000011?line=9'>10</a>\u001b[0m loaded_model \u001b[39m=\u001b[39m SingleTaskNN(task_name\u001b[39m=\u001b[39mtask_names[i], taskn_classes\u001b[39m=\u001b[39mtask_n_classes[i],\n\u001b[0;32m     <a href='vscode-notebook-cell:/e%3A/BSCS%203-%202ND%20SEM/9334-CS321-ARTIFICIAL_INTELLIGENCE/GithubFinalProj/hate-speech-model/src/test.ipynb#ch0000011?line=10'>11</a>\u001b[0m                             bert_model_name\u001b[39m=\u001b[39mconfig[\u001b[39m'\u001b[39m\u001b[39mbert_model_name\u001b[39m\u001b[39m'\u001b[39m])\n\u001b[1;32m---> <a href='vscode-notebook-cell:/e%3A/BSCS%203-%202ND%20SEM/9334-CS321-ARTIFICIAL_INTELLIGENCE/GithubFinalProj/hate-speech-model/src/test.ipynb#ch0000011?line=11'>12</a>\u001b[0m loaded_model\u001b[39m.\u001b[39;49mload_state_dict(torch\u001b[39m.\u001b[39;49mload(\n\u001b[0;32m     <a href='vscode-notebook-cell:/e%3A/BSCS%203-%202ND%20SEM/9334-CS321-ARTIFICIAL_INTELLIGENCE/GithubFinalProj/hate-speech-model/src/test.ipynb#ch0000011?line=12'>13</a>\u001b[0m  os\u001b[39m.\u001b[39;49mpath\u001b[39m.\u001b[39;49mjoin(PATH, label), map_location\u001b[39m=\u001b[39;49mdevice))\n\u001b[0;32m     <a href='vscode-notebook-cell:/e%3A/BSCS%203-%202ND%20SEM/9334-CS321-ARTIFICIAL_INTELLIGENCE/GithubFinalProj/hate-speech-model/src/test.ipynb#ch0000011?line=14'>15</a>\u001b[0m loaded_model \u001b[39m=\u001b[39m loaded_model\u001b[39m.\u001b[39mto(device)\n\u001b[0;32m     <a href='vscode-notebook-cell:/e%3A/BSCS%203-%202ND%20SEM/9334-CS321-ARTIFICIAL_INTELLIGENCE/GithubFinalProj/hate-speech-model/src/test.ipynb#ch0000011?line=15'>16</a>\u001b[0m loaded_model\u001b[39m.\u001b[39meval()\n",
      "File \u001b[1;32m~\\.conda\\envs\\ai-ds-test4\\lib\\site-packages\\torch\\nn\\modules\\module.py:1497\u001b[0m, in \u001b[0;36mModule.load_state_dict\u001b[1;34m(self, state_dict, strict)\u001b[0m\n\u001b[0;32m   <a href='file:///c%3A/Users/Arian/.conda/envs/ai-ds-test4/lib/site-packages/torch/nn/modules/module.py?line=1491'>1492</a>\u001b[0m         error_msgs\u001b[39m.\u001b[39minsert(\n\u001b[0;32m   <a href='file:///c%3A/Users/Arian/.conda/envs/ai-ds-test4/lib/site-packages/torch/nn/modules/module.py?line=1492'>1493</a>\u001b[0m             \u001b[39m0\u001b[39m, \u001b[39m'\u001b[39m\u001b[39mMissing key(s) in state_dict: \u001b[39m\u001b[39m{}\u001b[39;00m\u001b[39m. \u001b[39m\u001b[39m'\u001b[39m\u001b[39m.\u001b[39mformat(\n\u001b[0;32m   <a href='file:///c%3A/Users/Arian/.conda/envs/ai-ds-test4/lib/site-packages/torch/nn/modules/module.py?line=1493'>1494</a>\u001b[0m                 \u001b[39m'\u001b[39m\u001b[39m, \u001b[39m\u001b[39m'\u001b[39m\u001b[39m.\u001b[39mjoin(\u001b[39m'\u001b[39m\u001b[39m\"\u001b[39m\u001b[39m{}\u001b[39;00m\u001b[39m\"\u001b[39m\u001b[39m'\u001b[39m\u001b[39m.\u001b[39mformat(k) \u001b[39mfor\u001b[39;00m k \u001b[39min\u001b[39;00m missing_keys)))\n\u001b[0;32m   <a href='file:///c%3A/Users/Arian/.conda/envs/ai-ds-test4/lib/site-packages/torch/nn/modules/module.py?line=1495'>1496</a>\u001b[0m \u001b[39mif\u001b[39;00m \u001b[39mlen\u001b[39m(error_msgs) \u001b[39m>\u001b[39m \u001b[39m0\u001b[39m:\n\u001b[1;32m-> <a href='file:///c%3A/Users/Arian/.conda/envs/ai-ds-test4/lib/site-packages/torch/nn/modules/module.py?line=1496'>1497</a>\u001b[0m     \u001b[39mraise\u001b[39;00m \u001b[39mRuntimeError\u001b[39;00m(\u001b[39m'\u001b[39m\u001b[39mError(s) in loading state_dict for \u001b[39m\u001b[39m{}\u001b[39;00m\u001b[39m:\u001b[39m\u001b[39m\\n\u001b[39;00m\u001b[39m\\t\u001b[39;00m\u001b[39m{}\u001b[39;00m\u001b[39m'\u001b[39m\u001b[39m.\u001b[39mformat(\n\u001b[0;32m   <a href='file:///c%3A/Users/Arian/.conda/envs/ai-ds-test4/lib/site-packages/torch/nn/modules/module.py?line=1497'>1498</a>\u001b[0m                        \u001b[39mself\u001b[39m\u001b[39m.\u001b[39m\u001b[39m__class__\u001b[39m\u001b[39m.\u001b[39m\u001b[39m__name__\u001b[39m, \u001b[39m\"\u001b[39m\u001b[39m\\n\u001b[39;00m\u001b[39m\\t\u001b[39;00m\u001b[39m\"\u001b[39m\u001b[39m.\u001b[39mjoin(error_msgs)))\n\u001b[0;32m   <a href='file:///c%3A/Users/Arian/.conda/envs/ai-ds-test4/lib/site-packages/torch/nn/modules/module.py?line=1498'>1499</a>\u001b[0m \u001b[39mreturn\u001b[39;00m _IncompatibleKeys(missing_keys, unexpected_keys)\n",
      "\u001b[1;31mRuntimeError\u001b[0m: Error(s) in loading state_dict for SingleTaskNN:\n\tMissing key(s) in state_dict: \"bert.embeddings.position_ids\", \"bert.embeddings.token_type_embeddings.weight\", \"bert.encoder.layer.0.attention.self.query.weight\", \"bert.encoder.layer.0.attention.self.query.bias\", \"bert.encoder.layer.0.attention.self.key.weight\", \"bert.encoder.layer.0.attention.self.key.bias\", \"bert.encoder.layer.0.attention.self.value.weight\", \"bert.encoder.layer.0.attention.self.value.bias\", \"bert.encoder.layer.0.attention.output.dense.weight\", \"bert.encoder.layer.0.attention.output.dense.bias\", \"bert.encoder.layer.0.attention.output.LayerNorm.weight\", \"bert.encoder.layer.0.attention.output.LayerNorm.bias\", \"bert.encoder.layer.0.intermediate.dense.weight\", \"bert.encoder.layer.0.intermediate.dense.bias\", \"bert.encoder.layer.0.output.dense.weight\", \"bert.encoder.layer.0.output.dense.bias\", \"bert.encoder.layer.0.output.LayerNorm.weight\", \"bert.encoder.layer.0.output.LayerNorm.bias\", \"bert.encoder.layer.1.attention.self.query.weight\", \"bert.encoder.layer.1.attention.self.query.bias\", \"bert.encoder.layer.1.attention.self.key.weight\", \"bert.encoder.layer.1.attention.self.key.bias\", \"bert.encoder.layer.1.attention.self.value.weight\", \"bert.encoder.layer.1.attention.self.value.bias\", \"bert.encoder.layer.1.attention.output.dense.weight\", \"bert.encoder.layer.1.attention.output.dense.bias\", \"bert.encoder.layer.1.attention.output.LayerNorm.weight\", \"bert.encoder.layer.1.attention.output.LayerNorm.bias\", \"bert.encoder.layer.1.intermediate.dense.weight\", \"bert.encoder.layer.1.intermediate.dense.bias\", \"bert.encoder.layer.1.output.dense.weight\", \"bert.encoder.layer.1.output.dense.bias\", \"bert.encoder.layer.1.output.LayerNorm.weight\", \"bert.encoder.layer.1.output.LayerNorm.bias\", \"bert.encoder.layer.2.attention.self.query.weight\", \"bert.encoder.layer.2.attention.self.query.bias\", \"bert.encoder.layer.2.attention.self.key.weight\", \"bert.encoder.layer.2.attention.self.key.bias\", \"bert.encoder.layer.2.attention.self.value.weight\", \"bert.encoder.layer.2.attention.self.value.bias\", \"bert.encoder.layer.2.attention.output.dense.weight\", \"bert.encoder.layer.2.attention.output.dense.bias\", \"bert.encoder.layer.2.attention.output.LayerNorm.weight\", \"bert.encoder.layer.2.attention.output.LayerNorm.bias\", \"bert.encoder.layer.2.intermediate.dense.weight\", \"bert.encoder.layer.2.intermediate.dense.bias\", \"bert.encoder.layer.2.output.dense.weight\", \"bert.encoder.layer.2.output.dense.bias\", \"bert.encoder.layer.2.output.LayerNorm.weight\", \"bert.encoder.layer.2.output.LayerNorm.bias\", \"bert.encoder.layer.3.attention.self.query.weight\", \"bert.encoder.layer.3.attention.self.query.bias\", \"bert.encoder.layer.3.attention.self.key.weight\", \"bert.encoder.layer.3.attention.self.key.bias\", \"bert.encoder.layer.3.attention.self.value.weight\", \"bert.encoder.layer.3.attention.self.value.bias\", \"bert.encoder.layer.3.attention.output.dense.weight\", \"bert.encoder.layer.3.attention.output.dense.bias\", \"bert.encoder.layer.3.attention.output.LayerNorm.weight\", \"bert.encoder.layer.3.attention.output.LayerNorm.bias\", \"bert.encoder.layer.3.intermediate.dense.weight\", \"bert.encoder.layer.3.intermediate.dense.bias\", \"bert.encoder.layer.3.output.dense.weight\", \"bert.encoder.layer.3.output.dense.bias\", \"bert.encoder.layer.3.output.LayerNorm.weight\", \"bert.encoder.layer.3.output.LayerNorm.bias\", \"bert.encoder.layer.4.attention.self.query.weight\", \"bert.encoder.layer.4.attention.self.query.bias\", \"bert.encoder.layer.4.attention.self.key.weight\", \"bert.encoder.layer.4.attention.self.key.bias\", \"bert.encoder.layer.4.attention.self.value.weight\", \"bert.encoder.layer.4.attention.self.value.bias\", \"bert.encoder.layer.4.attention.output.dense.weight\", \"bert.encoder.layer.4.attention.output.dense.bias\", \"bert.encoder.layer.4.attention.output.LayerNorm.weight\", \"bert.encoder.layer.4.attention.output.LayerNorm.bias\", \"bert.encoder.layer.4.intermediate.dense.weight\", \"bert.encoder.layer.4.intermediate.dense.bias\", \"bert.encoder.layer.4.output.dense.weight\", \"bert.encoder.layer.4.output.dense.bias\", \"bert.encoder.layer.4.output.LayerNorm.weight\", \"bert.encoder.layer.4.output.LayerNorm.bias\", \"bert.encoder.layer.5.attention.self.query.weight\", \"bert.encoder.layer.5.attention.self.query.bias\", \"bert.encoder.layer.5.attention.self.key.weight\", \"bert.encoder.layer.5.attention.self.key.bias\", \"bert.encoder.layer.5.attention.self.value.weight\", \"bert.encoder.layer.5.attention.self.value.bias\", \"bert.encoder.layer.5.attention.output.dense.weight\", \"bert.encoder.layer.5.attention.output.dense.bias\", \"bert.encoder.layer.5.attention.output.LayerNorm.weight\", \"bert.encoder.layer.5.attention.output.LayerNorm.bias\", \"bert.encoder.layer.5.intermediate.dense.weight\", \"bert.encoder.layer.5.intermediate.dense.bias\", \"bert.encoder.layer.5.output.dense.weight\", \"bert.encoder.layer.5.output.dense.bias\", \"bert.encoder.layer.5.output.LayerNorm.weight\", \"bert.encoder.layer.5.output.LayerNorm.bias\", \"bert.encoder.layer.6.attention.self.query.weight\", \"bert.encoder.layer.6.attention.self.query.bias\", \"bert.encoder.layer.6.attention.self.key.weight\", \"bert.encoder.layer.6.attention.self.key.bias\", \"bert.encoder.layer.6.attention.self.value.weight\", \"bert.encoder.layer.6.attention.self.value.bias\", \"bert.encoder.layer.6.attention.output.dense.weight\", \"bert.encoder.layer.6.attention.output.dense.bias\", \"bert.encoder.layer.6.attention.output.LayerNorm.weight\", \"bert.encoder.layer.6.attention.output.LayerNorm.bias\", \"bert.encoder.layer.6.intermediate.dense.weight\", \"bert.encoder.layer.6.intermediate.dense.bias\", \"bert.encoder.layer.6.output.dense.weight\", \"bert.encoder.layer.6.output.dense.bias\", \"bert.encoder.layer.6.output.LayerNorm.weight\", \"bert.encoder.layer.6.output.LayerNorm.bias\", \"bert.encoder.layer.7.attention.self.query.weight\", \"bert.encoder.layer.7.attention.self.query.bias\", \"bert.encoder.layer.7.attention.self.key.weight\", \"bert.encoder.layer.7.attention.self.key.bias\", \"bert.encoder.layer.7.attention.self.value.weight\", \"bert.encoder.layer.7.attention.self.value.bias\", \"bert.encoder.layer.7.attention.output.dense.weight\", \"bert.encoder.layer.7.attention.output.dense.bias\", \"bert.encoder.layer.7.attention.output.LayerNorm.weight\", \"bert.encoder.layer.7.attention.output.LayerNorm.bias\", \"bert.encoder.layer.7.intermediate.dense.weight\", \"bert.encoder.layer.7.intermediate.dense.bias\", \"bert.encoder.layer.7.output.dense.weight\", \"bert.encoder.layer.7.output.dense.bias\", \"bert.encoder.layer.7.output.LayerNorm.weight\", \"bert.encoder.layer.7.output.LayerNorm.bias\", \"bert.encoder.layer.8.attention.self.query.weight\", \"bert.encoder.layer.8.attention.self.query.bias\", \"bert.encoder.layer.8.attention.self.key.weight\", \"bert.encoder.layer.8.attention.self.key.bias\", \"bert.encoder.layer.8.attention.self.value.weight\", \"bert.encoder.layer.8.attention.self.value.bias\", \"bert.encoder.layer.8.attention.output.dense.weight\", \"bert.encoder.layer.8.attention.output.dense.bias\", \"bert.encoder.layer.8.attention.output.LayerNorm.weight\", \"bert.encoder.layer.8.attention.output.LayerNorm.bias\", \"bert.encoder.layer.8.intermediate.dense.weight\", \"bert.encoder.layer.8.intermediate.dense.bias\", \"bert.encoder.layer.8.output.dense.weight\", \"bert.encoder.layer.8.output.dense.bias\", \"bert.encoder.layer.8.output.LayerNorm.weight\", \"bert.encoder.layer.8.output.LayerNorm.bias\", \"bert.encoder.layer.9.attention.self.query.weight\", \"bert.encoder.layer.9.attention.self.query.bias\", \"bert.encoder.layer.9.attention.self.key.weight\", \"bert.encoder.layer.9.attention.self.key.bias\", \"bert.encoder.layer.9.attention.self.value.weight\", \"bert.encoder.layer.9.attention.self.value.bias\", \"bert.encoder.layer.9.attention.output.dense.weight\", \"bert.encoder.layer.9.attention.output.dense.bias\", \"bert.encoder.layer.9.attention.output.LayerNorm.weight\", \"bert.encoder.layer.9.attention.output.LayerNorm.bias\", \"bert.encoder.layer.9.intermediate.dense.weight\", \"bert.encoder.layer.9.intermediate.dense.bias\", \"bert.encoder.layer.9.output.dense.weight\", \"bert.encoder.layer.9.output.dense.bias\", \"bert.encoder.layer.9.output.LayerNorm.weight\", \"bert.encoder.layer.9.output.LayerNorm.bias\", \"bert.encoder.layer.10.attention.self.query.weight\", \"bert.encoder.layer.10.attention.self.query.bias\", \"bert.encoder.layer.10.attention.self.key.weight\", \"bert.encoder.layer.10.attention.self.key.bias\", \"bert.encoder.layer.10.attention.self.value.weight\", \"bert.encoder.layer.10.attention.self.value.bias\", \"bert.encoder.layer.10.attention.output.dense.weight\", \"bert.encoder.layer.10.attention.output.dense.bias\", \"bert.encoder.layer.10.attention.output.LayerNorm.weight\", \"bert.encoder.layer.10.attention.output.LayerNorm.bias\", \"bert.encoder.layer.10.intermediate.dense.weight\", \"bert.encoder.layer.10.intermediate.dense.bias\", \"bert.encoder.layer.10.output.dense.weight\", \"bert.encoder.layer.10.output.dense.bias\", \"bert.encoder.layer.10.output.LayerNorm.weight\", \"bert.encoder.layer.10.output.LayerNorm.bias\", \"bert.encoder.layer.11.attention.self.query.weight\", \"bert.encoder.layer.11.attention.self.query.bias\", \"bert.encoder.layer.11.attention.self.key.weight\", \"bert.encoder.layer.11.attention.self.key.bias\", \"bert.encoder.layer.11.attention.self.value.weight\", \"bert.encoder.layer.11.attention.self.value.bias\", \"bert.encoder.layer.11.attention.output.dense.weight\", \"bert.encoder.layer.11.attention.output.dense.bias\", \"bert.encoder.layer.11.attention.output.LayerNorm.weight\", \"bert.encoder.layer.11.attention.output.LayerNorm.bias\", \"bert.encoder.layer.11.intermediate.dense.weight\", \"bert.encoder.layer.11.intermediate.dense.bias\", \"bert.encoder.layer.11.output.dense.weight\", \"bert.encoder.layer.11.output.dense.bias\", \"bert.encoder.layer.11.output.LayerNorm.weight\", \"bert.encoder.layer.11.output.LayerNorm.bias\", \"bert.pooler.dense.weight\", \"bert.pooler.dense.bias\". \n\tUnexpected key(s) in state_dict: \"bert.transformer.layer.0.attention.q_lin.weight\", \"bert.transformer.layer.0.attention.q_lin.bias\", \"bert.transformer.layer.0.attention.k_lin.weight\", \"bert.transformer.layer.0.attention.k_lin.bias\", \"bert.transformer.layer.0.attention.v_lin.weight\", \"bert.transformer.layer.0.attention.v_lin.bias\", \"bert.transformer.layer.0.attention.out_lin.weight\", \"bert.transformer.layer.0.attention.out_lin.bias\", \"bert.transformer.layer.0.sa_layer_norm.weight\", \"bert.transformer.layer.0.sa_layer_norm.bias\", \"bert.transformer.layer.0.ffn.lin1.weight\", \"bert.transformer.layer.0.ffn.lin1.bias\", \"bert.transformer.layer.0.ffn.lin2.weight\", \"bert.transformer.layer.0.ffn.lin2.bias\", \"bert.transformer.layer.0.output_layer_norm.weight\", \"bert.transformer.layer.0.output_layer_norm.bias\", \"bert.transformer.layer.1.attention.q_lin.weight\", \"bert.transformer.layer.1.attention.q_lin.bias\", \"bert.transformer.layer.1.attention.k_lin.weight\", \"bert.transformer.layer.1.attention.k_lin.bias\", \"bert.transformer.layer.1.attention.v_lin.weight\", \"bert.transformer.layer.1.attention.v_lin.bias\", \"bert.transformer.layer.1.attention.out_lin.weight\", \"bert.transformer.layer.1.attention.out_lin.bias\", \"bert.transformer.layer.1.sa_layer_norm.weight\", \"bert.transformer.layer.1.sa_layer_norm.bias\", \"bert.transformer.layer.1.ffn.lin1.weight\", \"bert.transformer.layer.1.ffn.lin1.bias\", \"bert.transformer.layer.1.ffn.lin2.weight\", \"bert.transformer.layer.1.ffn.lin2.bias\", \"bert.transformer.layer.1.output_layer_norm.weight\", \"bert.transformer.layer.1.output_layer_norm.bias\", \"bert.transformer.layer.2.attention.q_lin.weight\", \"bert.transformer.layer.2.attention.q_lin.bias\", \"bert.transformer.layer.2.attention.k_lin.weight\", \"bert.transformer.layer.2.attention.k_lin.bias\", \"bert.transformer.layer.2.attention.v_lin.weight\", \"bert.transformer.layer.2.attention.v_lin.bias\", \"bert.transformer.layer.2.attention.out_lin.weight\", \"bert.transformer.layer.2.attention.out_lin.bias\", \"bert.transformer.layer.2.sa_layer_norm.weight\", \"bert.transformer.layer.2.sa_layer_norm.bias\", \"bert.transformer.layer.2.ffn.lin1.weight\", \"bert.transformer.layer.2.ffn.lin1.bias\", \"bert.transformer.layer.2.ffn.lin2.weight\", \"bert.transformer.layer.2.ffn.lin2.bias\", \"bert.transformer.layer.2.output_layer_norm.weight\", \"bert.transformer.layer.2.output_layer_norm.bias\", \"bert.transformer.layer.3.attention.q_lin.weight\", \"bert.transformer.layer.3.attention.q_lin.bias\", \"bert.transformer.layer.3.attention.k_lin.weight\", \"bert.transformer.layer.3.attention.k_lin.bias\", \"bert.transformer.layer.3.attention.v_lin.weight\", \"bert.transformer.layer.3.attention.v_lin.bias\", \"bert.transformer.layer.3.attention.out_lin.weight\", \"bert.transformer.layer.3.attention.out_lin.bias\", \"bert.transformer.layer.3.sa_layer_norm.weight\", \"bert.transformer.layer.3.sa_layer_norm.bias\", \"bert.transformer.layer.3.ffn.lin1.weight\", \"bert.transformer.layer.3.ffn.lin1.bias\", \"bert.transformer.layer.3.ffn.lin2.weight\", \"bert.transformer.layer.3.ffn.lin2.bias\", \"bert.transformer.layer.3.output_layer_norm.weight\", \"bert.transformer.layer.3.output_layer_norm.bias\", \"bert.transformer.layer.4.attention.q_lin.weight\", \"bert.transformer.layer.4.attention.q_lin.bias\", \"bert.transformer.layer.4.attention.k_lin.weight\", \"bert.transformer.layer.4.attention.k_lin.bias\", \"bert.transformer.layer.4.attention.v_lin.weight\", \"bert.transformer.layer.4.attention.v_lin.bias\", \"bert.transformer.layer.4.attention.out_lin.weight\", \"bert.transformer.layer.4.attention.out_lin.bias\", \"bert.transformer.layer.4.sa_layer_norm.weight\", \"bert.transformer.layer.4.sa_layer_norm.bias\", \"bert.transformer.layer.4.ffn.lin1.weight\", \"bert.transformer.layer.4.ffn.lin1.bias\", \"bert.transformer.layer.4.ffn.lin2.weight\", \"bert.transformer.layer.4.ffn.lin2.bias\", \"bert.transformer.layer.4.output_layer_norm.weight\", \"bert.transformer.layer.4.output_layer_norm.bias\", \"bert.transformer.layer.5.attention.q_lin.weight\", \"bert.transformer.layer.5.attention.q_lin.bias\", \"bert.transformer.layer.5.attention.k_lin.weight\", \"bert.transformer.layer.5.attention.k_lin.bias\", \"bert.transformer.layer.5.attention.v_lin.weight\", \"bert.transformer.layer.5.attention.v_lin.bias\", \"bert.transformer.layer.5.attention.out_lin.weight\", \"bert.transformer.layer.5.attention.out_lin.bias\", \"bert.transformer.layer.5.sa_layer_norm.weight\", \"bert.transformer.layer.5.sa_layer_norm.bias\", \"bert.transformer.layer.5.ffn.lin1.weight\", \"bert.transformer.layer.5.ffn.lin1.bias\", \"bert.transformer.layer.5.ffn.lin2.weight\", \"bert.transformer.layer.5.ffn.lin2.bias\", \"bert.transformer.layer.5.output_layer_norm.weight\", \"bert.transformer.layer.5.output_layer_norm.bias\". "
     ]
    }
   ],
   "source": [
    "device = ('cpu')\n",
    "PATH = './torch_model'\n",
    "loaded_models = []\n",
    "singletask_taskn = {\"task1\": 3, \"task2\": 1, \"task3\": 5}\n",
    "task_names = list(singletask_taskn)\n",
    "task_n_classes = list(singletask_taskn.values())\n",
    "\n",
    "for i in range(3):\n",
    "   label = f'singletask{i+1}.pt'\n",
    "   loaded_model = SingleTaskNN(task_name=task_names[i], taskn_classes=task_n_classes[i],\n",
    "                               bert_model_name=config['bert_model_name'])\n",
    "   loaded_model.load_state_dict(torch.load(\n",
    "    os.path.join(PATH, label), map_location=device))\n",
    "\n",
    "   loaded_model = loaded_model.to(device)\n",
    "   loaded_model.eval()\n",
    "   loaded_model.freeze()\n",
    "\n",
    "   loaded_models.append(loaded_model)\n",
    "   loaded_model = None\n"
   ]
  },
  {
   "cell_type": "code",
   "execution_count": 5,
   "metadata": {},
   "outputs": [
    {
     "ename": "NameError",
     "evalue": "name 'get_accuracy_score_single_output' is not defined",
     "output_type": "error",
     "traceback": [
      "\u001b[1;31m---------------------------------------------------------------------------\u001b[0m",
      "\u001b[1;31mNameError\u001b[0m                                 Traceback (most recent call last)",
      "\u001b[1;32me:\\BSCS 3- 2ND SEM\\9334-CS321-ARTIFICIAL_INTELLIGENCE\\GithubFinalProj\\hate-speech-model\\src\\test.ipynb Cell 13'\u001b[0m in \u001b[0;36m<cell line: 1>\u001b[1;34m()\u001b[0m\n\u001b[1;32m----> <a href='vscode-notebook-cell:/e%3A/BSCS%203-%202ND%20SEM/9334-CS321-ARTIFICIAL_INTELLIGENCE/GithubFinalProj/hate-speech-model/src/test.ipynb#ch0000012?line=0'>1</a>\u001b[0m get_accuracy_score_single_output(loaded_models[\u001b[39m2\u001b[39m], \u001b[39m2\u001b[39m)\n",
      "\u001b[1;31mNameError\u001b[0m: name 'get_accuracy_score_single_output' is not defined"
     ]
    }
   ],
   "source": [
    "get_accuracy_score_single_output(loaded_models[2], 2)"
   ]
  },
  {
   "cell_type": "code",
   "execution_count": null,
   "metadata": {},
   "outputs": [],
   "source": [
    "# if idx%500 == 0:\n",
    "#     print(test_df.iloc[idx].text)\n",
    "#     print('TASK 1')\n",
    "#     print(prediction[0])\n",
    "#     print(task1_id2label)\n",
    "#     print(task1_id2label[int(torch.argmax(prediction[0]))])\n",
    "\n",
    "#     print('TASK 2')\n",
    "#     print(prediction[1])\n",
    "#     print(task2_id2label)\n",
    "#     print(task2_id2label[int(torch.argmax(prediction[1]))])\n",
    "\n",
    "#     print('TASK 3')\n",
    "#     print(prediction[2])\n",
    "#     print(task3_id2label)\n",
    "#     print(task3_id2label[int(torch.argmax(prediction[2]))])\n",
    "#     print('=============================')\n"
   ]
  }
 ],
 "metadata": {
  "interpreter": {
   "hash": "6ff18a2c3a5d785561d0cdab5ccf9507df71581ec286f02d4b39c00f7c48e831"
  },
  "kernelspec": {
   "display_name": "Python 3.9.12 ('ai-ds-test4')",
   "language": "python",
   "name": "python3"
  },
  "language_info": {
   "codemirror_mode": {
    "name": "ipython",
    "version": 3
   },
   "file_extension": ".py",
   "mimetype": "text/x-python",
   "name": "python",
   "nbconvert_exporter": "python",
   "pygments_lexer": "ipython3",
   "version": "3.9.12"
  },
  "orig_nbformat": 4
 },
 "nbformat": 4,
 "nbformat_minor": 2
}
