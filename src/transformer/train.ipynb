{
 "cells": [
  {
   "cell_type": "code",
   "execution_count": 1,
   "metadata": {},
   "outputs": [
    {
     "name": "stderr",
     "output_type": "stream",
     "text": [
      "C:\\Users\\Arian\\.conda\\envs\\ai-ds-test4\\lib\\site-packages\\tqdm\\auto.py:22: TqdmWarning: IProgress not found. Please update jupyter and ipywidgets. See https://ipywidgets.readthedocs.io/en/stable/user_install.html\n",
      "  from .autonotebook import tqdm as notebook_tqdm\n"
     ]
    },
    {
     "name": "stdout",
     "output_type": "stream",
     "text": [
      "bert-base-uncased\n"
     ]
    }
   ],
   "source": [
    "import pandas as pd\n",
    "from sklearn.model_selection import train_test_split\n",
    "import json\n",
    "import os\n",
    "\n",
    "import torch\n",
    "import pytorch_lightning as pl\n",
    "from pytorch_lightning.loggers import TensorBoardLogger\n",
    "from pytorch_lightning.callbacks import ModelCheckpoint\n",
    "from transformers import AutoTokenizer\n",
    "\n",
    "from classes.TwitterDataModule import TwitterDataModule\n",
    "from classes.TwitterNeuralNet import TwitterNeuralNet"
   ]
  },
  {
   "cell_type": "code",
   "execution_count": 2,
   "metadata": {},
   "outputs": [
    {
     "name": "stdout",
     "output_type": "stream",
     "text": [
      "-------READING TRAINING FILES-------\n",
      "-------READING TRAINING FILES COMPLETED-------\n"
     ]
    }
   ],
   "source": [
    "with open('./config/config.json', 'r') as f:\n",
    "    config = json.load(f)\n",
    "\n",
    "print('-------READING TRAINING FILES-------')\n",
    "\n",
    "train_df = pd.read_csv('../../res/preprocessed/train_final.csv')\n",
    "val_df = pd.read_csv('../../res/preprocessed/val_final.csv')\n",
    "test_df = pd.read_csv('../../res/preprocessed/test_final.csv')\n",
    "print('-------READING TRAINING FILES COMPLETED-------')\n",
    "train_df = train_df.dropna()\n",
    "val_df = val_df.dropna()\n",
    "test_df = test_df.dropna()\n",
    "\n",
    "LABEL_COLUMNS = list(train_df.columns)\n",
    "LABEL_COLUMNS.remove('text')\n",
    "\n",
    "TASK1_LABELS = LABEL_COLUMNS[:3]\n",
    "TASK2_LABELS = LABEL_COLUMNS[3:5]\n",
    "TASK3_LABELS = LABEL_COLUMNS[5:]"
   ]
  },
  {
   "cell_type": "code",
   "execution_count": 3,
   "metadata": {},
   "outputs": [
    {
     "name": "stdout",
     "output_type": "stream",
     "text": [
      "-------INITIALIZING TOKENIZER-------\n",
      "-------CREATING DATA MODULE-------\n",
      "-------DATA MODULE CREATED-------\n"
     ]
    }
   ],
   "source": [
    "\n",
    "print('-------INITIALIZING TOKENIZER-------')\n",
    "tokenizer = AutoTokenizer.from_pretrained(config['bert_model_name'])\n",
    "\n",
    "print('-------CREATING DATA MODULE-------')\n",
    "data_module = TwitterDataModule(\n",
    "    train_df,\n",
    "    val_df,\n",
    "    test_df,\n",
    "    tokenizer,\n",
    "    batch_size=config[\"batch_size\"],\n",
    "    max_token_len=config[\"max_token_len\"]\n",
    ")\n",
    "data_module.setup()\n",
    "print('-------DATA MODULE CREATED-------')\n"
   ]
  },
  {
   "cell_type": "code",
   "execution_count": 4,
   "metadata": {},
   "outputs": [
    {
     "name": "stdout",
     "output_type": "stream",
     "text": [
      "-------INITIALIZING TWITTER NEURAL NET-------\n"
     ]
    }
   ],
   "source": [
    "steps_per_epoch = len(train_df) // config[\"batch_size\"]\n",
    "total_training_steps = steps_per_epoch * config[\"n_epochs\"]\n",
    "warmup_steps = total_training_steps // 5\n",
    "\n",
    "\n",
    "logger = TensorBoardLogger(\"./logs/lightning_logs\",\"\")\n",
    "\n",
    "checkpoint_callback = ModelCheckpoint(\n",
    "    dirpath='./checkpoints',\n",
    "    filename='{epoch}-{val_loss: .2f}',\n",
    "    save_top_k=2,\n",
    "    verbose=True,\n",
    "    monitor=\"val_loss\",\n",
    "    mode=\"min\",\n",
    "    every_n_train_steps=100,\n",
    ")\n",
    "\n",
    "print('-------INITIALIZING TWITTER NEURAL NET-------')\n",
    "model = TwitterNeuralNet(\n",
    "    task1_n_classes=len(TASK1_LABELS),\n",
    "    task2_n_classes=len(TASK2_LABELS),\n",
    "    task3_n_classes=len(TASK3_LABELS),\n",
    "    n_warmup_steps=warmup_steps,\n",
    "    n_training_steps=total_training_steps,\n",
    "    bert_model_name=config['bert_model_name']\n",
    ")\n",
    "print('-------NEURAL NET INITIALIZED-------')\n",
    "\n",
    "print('-------TRAINING-------')\n",
    "\n",
    "trainer = pl.Trainer(\n",
    "    max_epochs=config['n_epochs'],\n",
    "    gpus=1,\n",
    "    progress_bar_refresh_rate=config['progress_bar_refresh_rate'],\n",
    "    num_sanity_val_steps=config['num_sanity_val_steps'],\n",
    "    fast_dev_run=False,\n",
    "    logger=logger,\n",
    "    # checkpoint_callback=checkpoint_callback,\n",
    "    default_root_dir=\"../transformer/saved/checkpoints\"\n",
    ")\n",
    "trainer.fit(model, data_module)\n",
    "\n",
    "print('-------TRAINING COMPLETE-------')\n",
    "\n",
    "print('-------EXPORTING MODEL-------')\n",
    "PATH = './torch_model'\n",
    "torch.save(model.state_dict(), os.path.join(PATH, config[\"trained_model_name\"]))\n",
    "print('-------MODEL EXPORTED SUCCESSFULLY-------')\n"
   ]
  },
  {
   "cell_type": "code",
   "execution_count": null,
   "metadata": {},
   "outputs": [],
   "source": []
  }
 ],
 "metadata": {
  "interpreter": {
   "hash": "6ff18a2c3a5d785561d0cdab5ccf9507df71581ec286f02d4b39c00f7c48e831"
  },
  "kernelspec": {
   "display_name": "Python 3.9.12 ('ai-ds-test4')",
   "language": "python",
   "name": "python3"
  },
  "language_info": {
   "codemirror_mode": {
    "name": "ipython",
    "version": 3
   },
   "file_extension": ".py",
   "mimetype": "text/x-python",
   "name": "python",
   "nbconvert_exporter": "python",
   "pygments_lexer": "ipython3",
   "version": "3.9.12"
  },
  "orig_nbformat": 4
 },
 "nbformat": 4,
 "nbformat_minor": 2
}
